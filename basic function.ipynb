{
 "cells": [
  {
   "cell_type": "code",
   "execution_count": 1,
   "id": "001f3f53-a1fd-408e-a988-9a4289b976e1",
   "metadata": {},
   "outputs": [
    {
     "name": "stdout",
     "output_type": "stream",
     "text": [
      "{'lion', 'tiger', 'dog', 'cat', 'monkey'}\n"
     ]
    }
   ],
   "source": [
    "#create a set to store the name of all animal\n",
    "Animal={'lion','dog','cat','tiger','monkey'}\n",
    "print(Animal)"
   ]
  },
  {
   "cell_type": "code",
   "execution_count": 3,
   "id": "676d2a8b-50dc-463c-984f-8a331ac114d7",
   "metadata": {},
   "outputs": [
    {
     "name": "stdout",
     "output_type": "stream",
     "text": [
      "{'elephant', 'lion', 'tiger', 'dog', 'cat', 'monkey'}\n"
     ]
    }
   ],
   "source": [
    "#add element to set\n",
    "Animal.add('elephant')\n",
    "print(Animal)"
   ]
  },
  {
   "cell_type": "code",
   "execution_count": 8,
   "id": "ab0e7238-5672-457a-95e0-0aa2fab9b4e3",
   "metadata": {},
   "outputs": [
    {
     "name": "stdout",
     "output_type": "stream",
     "text": [
      "{'cat', 'horse', 'tiger', 'dog'}\n"
     ]
    }
   ],
   "source": [
    "#update set\n",
    "A={\"cat\",\"dog\"}\n",
    "B={\"horse\",\"tiger\"}\n",
    "A.update(B)\n",
    "print(A)\n"
   ]
  },
  {
   "cell_type": "code",
   "execution_count": 24,
   "id": "f671263e-f2ad-4e18-a8f0-37b392aa389f",
   "metadata": {},
   "outputs": [
    {
     "name": "stdout",
     "output_type": "stream",
     "text": [
      "{'dog', 'cat', 'monkey', 'tiger'}\n"
     ]
    }
   ],
   "source": [
    "#Write a Python program to create a set and add multiple items to it\n",
    "a={'dog','cat','monkey'}\n",
    "a.add('tiger')\n",
    "print(a)"
   ]
  },
  {
   "cell_type": "code",
   "execution_count": 12,
   "id": "e2f5b8b8-ca38-4262-8d67-0f7c40b3ef75",
   "metadata": {},
   "outputs": [
    {
     "name": "stdout",
     "output_type": "stream",
     "text": [
      "{1, 2, 3, 4, 5, 6}\n"
     ]
    }
   ],
   "source": [
    "#Given a set{1, 2, 3, 4, 5}, write a Python program to add an element6to this set\n",
    "x={1,2,3,4,5}\n",
    "x.add(6)\n",
    "print(x)"
   ]
  },
  {
   "cell_type": "code",
   "execution_count": 13,
   "id": "a0d29632-7315-4d8c-8448-5b3f13668f91",
   "metadata": {},
   "outputs": [
    {
     "name": "stdout",
     "output_type": "stream",
     "text": [
      "{1, 3, 4, 5}\n"
     ]
    }
   ],
   "source": [
    "#Write a Python program to remove an element 2 from the set{1, 2, 3, 4, 5}\n",
    "x={1,2,3,4,5}\n",
    "x.remove(2)\n",
    "print(x)"
   ]
  },
  {
   "cell_type": "code",
   "execution_count": 15,
   "id": "5393411f-6bf8-4ba1-b485-8fb569afe607",
   "metadata": {},
   "outputs": [
    {
     "name": "stdout",
     "output_type": "stream",
     "text": [
      "{1, 2, 3, 4, 5}\n"
     ]
    }
   ],
   "source": [
    "#How can you find the union of two sets{1, 2, 3}and{3, 4, 5}\n",
    "x={1,2,3}\n",
    "y={3,4,5}\n",
    "z=x.union(y)\n",
    "print(z)"
   ]
  },
  {
   "cell_type": "code",
   "execution_count": 16,
   "id": "a7be9a5f-6255-4746-b53a-1d2cbdb39838",
   "metadata": {},
   "outputs": [
    {
     "name": "stdout",
     "output_type": "stream",
     "text": [
      "{40, 30}\n"
     ]
    }
   ],
   "source": [
    "#Write a Python program to find the intersection of sets{10, 20, 30, 40}and{30, 40, 50, 60}\n",
    "x={10, 20, 30, 40}\n",
    "y={30,40,50,60}\n",
    "z=x.intersection(y)\n",
    "print(z)"
   ]
  },
  {
   "cell_type": "code",
   "execution_count": 22,
   "id": "0c9ae3fe-2120-40cc-8b85-91c465f201d5",
   "metadata": {},
   "outputs": [
    {
     "name": "stdout",
     "output_type": "stream",
     "text": [
      "{4, 5}\n",
      "{1, 2}\n"
     ]
    }
   ],
   "source": [
    "#Given two sets{1, 2, 3}and{3, 4, 5}, write a Python program to find their difference\n",
    "x={1,2,3}\n",
    "y={3,4,5}\n",
    "z=x.difference(y)\n",
    "a=y.difference(x)\n",
    "print(a)\n",
    "print(z)"
   ]
  },
  {
   "cell_type": "code",
   "execution_count": 18,
   "id": "b4945842-5270-41d6-8887-5fab0a3ef511",
   "metadata": {},
   "outputs": [
    {
     "name": "stdout",
     "output_type": "stream",
     "text": [
      "True\n"
     ]
    }
   ],
   "source": [
    "#Write a Python program to check if{1, 2}is a subset of{1, 2, 3, 4}\n",
    "x={1,2}\n",
    "y={1,2,3,4}\n",
    "z=x.issubset(y)\n",
    "print(z)"
   ]
  },
  {
   "cell_type": "code",
   "execution_count": 19,
   "id": "f3cf556a-5b7c-4627-b678-7e906fecba2e",
   "metadata": {},
   "outputs": [
    {
     "name": "stdout",
     "output_type": "stream",
     "text": [
      "None\n"
     ]
    }
   ],
   "source": [
    "#How can you clear all elements from a set\n",
    "x={1,2,3,4,5,6}\n",
    "z=x.clear()\n",
    "print(z)"
   ]
  },
  {
   "cell_type": "code",
   "execution_count": 20,
   "id": "0f653c32-6334-4be0-ac93-6c051be15e0f",
   "metadata": {},
   "outputs": [
    {
     "name": "stdout",
     "output_type": "stream",
     "text": [
      "5\n"
     ]
    }
   ],
   "source": [
    "#Write a Python program to find the length of a set{10, 20, 30, 40, 50}\n",
    "x={10, 20, 30, 40, 50}\n",
    "y=len(x)\n",
    "print(y)"
   ]
  },
  {
   "cell_type": "code",
   "execution_count": 21,
   "id": "8def415f-5c63-4c9e-86d7-a553db886258",
   "metadata": {},
   "outputs": [
    {
     "name": "stdout",
     "output_type": "stream",
     "text": [
      "True\n"
     ]
    }
   ],
   "source": [
    "#Create two sets{1, 2, 3}and{4, 5, 6}and check if they are disjoint sets.\n",
    "x={1,2,3}\n",
    "y={4,5,6}\n",
    "z=x.isdisjoint(y)\n",
    "print(z)"
   ]
  },
  {
   "cell_type": "code",
   "execution_count": null,
   "id": "edd75bae-7ffa-45d8-b8be-28cbd14e683b",
   "metadata": {},
   "outputs": [],
   "source": [
    "#difference between\n",
    "#lambda and normal function\n",
    "#list and tuple\n",
    "#set and dictionary\n",
    "#for loop and while loop"
   ]
  },
  {
   "cell_type": "code",
   "execution_count": 51,
   "id": "7574425e-08b8-4cb4-a2fe-d81a1f3dea32",
   "metadata": {},
   "outputs": [
    {
     "name": "stdout",
     "output_type": "stream",
     "text": [
      "[1]\n"
     ]
    }
   ],
   "source": [
    "#write a program to find the most common element in list using set\n",
    "def m_c(lst):\n",
    "    uni_element=set(lst)\n",
    "    max_count=0\n",
    "    most_common=[]\n",
    "    for i in uni_element:\n",
    "        count=lst.count(i)\n",
    "        if count > max_count:\n",
    "            max_count=count\n",
    "            most_common=[i]\n",
    "        elif count == max_count:\n",
    "            max_count=count\n",
    "            most_common.append(i)\n",
    "    print(most_common)\n",
    "m_c([1,1,1,2,2,3,3,4])\n",
    "        \n",
    "            \n",
    "            \n",
    "    "
   ]
  },
  {
   "cell_type": "code",
   "execution_count": 55,
   "id": "44ea978e-1c4b-450a-8683-4472871baee2",
   "metadata": {},
   "outputs": [
    {
     "name": "stdout",
     "output_type": "stream",
     "text": [
      "2\n"
     ]
    }
   ],
   "source": [
    "#find unique vowels in string using set\n",
    "def vowel(string):\n",
    "    vowel={'a','e','i','o','u'}\n",
    "    unique_string=set(string.lower())\n",
    "    unique_vowels=unique_string.intersection(vowel)\n",
    "    print(len(unique_vowels))\n",
    "vowel(\"Hello World\")\n",
    "    \n",
    "    \n",
    "    \n",
    "    \n",
    "        \n",
    "    \n",
    "\n",
    "\n",
    "    "
   ]
  },
  {
   "cell_type": "code",
   "execution_count": 56,
   "id": "44280499-73fb-4d0f-a78b-638a99f09918",
   "metadata": {},
   "outputs": [
    {
     "name": "stdout",
     "output_type": "stream",
     "text": [
      "{1: 1, 2: 4, 3: 9, 4: 16, 5: 25}\n"
     ]
    }
   ],
   "source": [
    "#create a dictionary :write python program to create a dictionary with keys as numbers from 1 to 5 and value as their squares(e.g.,{1:1,2:4,3:9,4:16,5:25\n",
    "num={\n",
    "    1:1,2:4,3:9,4:16,5:25\n",
    "}\n",
    "print(num)"
   ]
  },
  {
   "cell_type": "code",
   "execution_count": 57,
   "id": "e48f4ed3-aabb-42c1-8fc7-cded94139058",
   "metadata": {},
   "outputs": [
    {
     "name": "stdout",
     "output_type": "stream",
     "text": [
      "HR\n"
     ]
    }
   ],
   "source": [
    "#Access Dictionary Values:\n",
    " \n",
    "#Given the dictionary employee = {'name': 'John', 'age': 30, 'department': 'HR'}, write code to access and print the value associated with the key 'department'.\n",
    "employee = {'name': 'John', 'age': 30, 'department': 'HR'}\n",
    "result=employee.get('department')\n",
    "print(result)"
   ]
  },
  {
   "cell_type": "code",
   "execution_count": 58,
   "id": "5ce5a56f-9558-4ca7-87a8-3b601d5597d5",
   "metadata": {},
   "outputs": [
    {
     "name": "stdout",
     "output_type": "stream",
     "text": [
      "{'name': 'Alice', 'marks': 95}\n"
     ]
    }
   ],
   "source": [
    "#Update a Dictionary:\n",
    " \n",
    "#Given the dictionary student = {'name': 'Alice', 'marks': 85}, write a program to update the marks to 95.\n",
    "student = {'name': 'Alice', 'marks': 85}\n",
    "student.update({'marks':95})\n",
    "print(student)\n"
   ]
  },
  {
   "cell_type": "code",
   "execution_count": 59,
   "id": "b3eb7f78-a1eb-4dd6-9775-c0dd9df6401e",
   "metadata": {},
   "outputs": [
    {
     "name": "stdout",
     "output_type": "stream",
     "text": [
      "{'student': 'Emma', 'grade': 'A', 'subject': 'math'}\n"
     ]
    }
   ],
   "source": [
    "#Add a New Key-Value Pair:\n",
    " \n",
    "#Write a program to add a new key 'subject' with value 'Math' to the dictionary grades = {'student': 'Emma', 'grade': 'A'}.\n",
    "grades = {'student': 'Emma', 'grade': 'A'}\n",
    "grades.update({'subject':'math'})\n",
    "print(grades)\n",
    "\n",
    "\n",
    " "
   ]
  },
  {
   "cell_type": "code",
   "execution_count": 60,
   "id": "336599f5-e5c7-4861-926e-dc4248bbb026",
   "metadata": {},
   "outputs": [
    {
     "name": "stdout",
     "output_type": "stream",
     "text": [
      "{'name': 'Sara', 'city': 'New York'}\n"
     ]
    }
   ],
   "source": [
    "#Write a Python program to remove the key 'age' from the dictionary \n",
    "person = {'name': 'Sara', 'age': 25, 'city': 'New York'}\n",
    "person.pop('age')\n",
    "print(person)"
   ]
  },
  {
   "cell_type": "code",
   "execution_count": 63,
   "id": "a988798a-ee6f-4036-8ab4-72865f7d2607",
   "metadata": {},
   "outputs": [
    {
     "name": "stdout",
     "output_type": "stream",
     "text": [
      "key is exits\n"
     ]
    }
   ],
   "source": [
    "#Check if a Key Exists:\n",
    " \n",
    "#Write a Python function that checks if a given key exists in the dictionary inventory = {'apple': 10, 'banana': 5, 'orange': 8}.\n",
    "def check(dictionary):\n",
    "    if 'apple'in dictionary:\n",
    "        print(\"key is exits\")\n",
    "    else:\n",
    "        print(\"key is not exits\")\n",
    "check({'apple': 10, 'banana': 5, 'orange': 8})"
   ]
  },
  {
   "cell_type": "code",
   "execution_count": 64,
   "id": "ca7ba12c-02a9-44e2-b7d8-93d173f477b4",
   "metadata": {},
   "outputs": [
    {
     "name": "stdout",
     "output_type": "stream",
     "text": [
      "brand: Toyota\n",
      "model: Corolla\n",
      "year: 2022\n"
     ]
    }
   ],
   "source": [
    "#Iterate Over a Dictionary:\n",
    " \n",
    "#Write a Python program to iterate over the dictionary car = {'brand': 'Toyota', 'model': 'Corolla', 'year': 2022} and print each key-value pair.\n",
    "\n",
    "car = {'brand': 'Toyota', 'model': 'Corolla', 'year': 2022}\n",
    "for key, value in car.items():\n",
    "    print(f\"{key}: {value}\")\n"
   ]
  },
  {
   "cell_type": "code",
   "execution_count": 70,
   "id": "31dc3b29-f9e4-439c-9d8e-7f9920513585",
   "metadata": {},
   "outputs": [
    {
     "name": "stdout",
     "output_type": "stream",
     "text": [
      "{'a', 'b', 'c'}\n"
     ]
    }
   ],
   "source": [
    "#Given two dictionaries, dict1 = {'a': 1, 'b': 2} anddict1 = {'b': 3, 'c': 4}, write a Python program to merge them into a single dictionary. If there are duplicate keys, the value from dict2 should overwrite dict1.\n",
    " \n",
    "dict1 = {'a': 1, 'b': 2}\n",
    "dict2 = {'b': 3, 'c': 4}\n",
    "dict={**dict1,**dict2}\n",
    "print(set(dict))\n"
   ]
  },
  {
   "cell_type": "code",
   "execution_count": 72,
   "id": "7ba498f2-94c3-450a-b979-d26caa49a4d8",
   "metadata": {},
   "outputs": [
    {
     "name": "stdout",
     "output_type": "stream",
     "text": [
      "highest value: Charlie\n"
     ]
    }
   ],
   "source": [
    "#Find the Maximum Value:\n",
    " \n",
    "#Write a Python program to find the key with the highest value in the dictionary scores = {'Alice': 90, 'Bob': 85, 'Charlie': 92}\n",
    "scores = {'Alice': 90, 'Bob': 85, 'Charlie': 92}\n",
    "highest_score_key = max(scores, key=scores.get)\n",
    "\n",
    "print(\"highest value:\", highest_score_key)\n",
    "\n",
    "\n"
   ]
  },
  {
   "cell_type": "code",
   "execution_count": 76,
   "id": "78fc7837-ed33-42c0-897e-a711864990a9",
   "metadata": {},
   "outputs": [
    {
     "name": "stdout",
     "output_type": "stream",
     "text": [
      "{1: 1, 2: 8, 3: 27, 4: 64, 5: 125}\n"
     ]
    }
   ],
   "source": [
    "#Write a Python dictionary comprehension to create a dictionary where the keys are numbers from 1 to 5 and the values are the cubes of the keys (e.g., {1: 1, 2: 8, 3: 27, 4: 64, 5: 125})\n",
    "x={x:x**3 for x in range(1,6)}\n",
    "print(x)"
   ]
  },
  {
   "cell_type": "code",
   "execution_count": 2,
   "id": "d569f74e-5e8a-42b7-9ad2-c9e72f6deed0",
   "metadata": {},
   "outputs": [
    {
     "name": "stdout",
     "output_type": "stream",
     "text": [
      "19\n"
     ]
    }
   ],
   "source": [
    "#Write a lambda function to add two numbers and use it to add 12 and 7\n",
    "x=lambda x,y:(x+y)\n",
    "print(x(12,7))"
   ]
  },
  {
   "cell_type": "code",
   "execution_count": 3,
   "id": "044fb76b-16f3-4040-9df4-6f6dc4911b45",
   "metadata": {},
   "outputs": [
    {
     "name": "stdout",
     "output_type": "stream",
     "text": [
      "125\n"
     ]
    }
   ],
   "source": [
    "#Create a lambda function  that takes a number as input and returns its cube. Test it with the number 5\n",
    "cube_lambda = lambda x: x**3\n",
    "print(cube_lambda(5))\n",
    "\n"
   ]
  },
  {
   "cell_type": "code",
   "execution_count": 4,
   "id": "1e55267e-669e-4d90-8e9f-512656b28197",
   "metadata": {},
   "outputs": [
    {
     "name": "stdout",
     "output_type": "stream",
     "text": [
      "[10, 15, 20, 25, 30]\n"
     ]
    }
   ],
   "source": [
    "#Given a list of numbers [10, 15, 20, 25, 30], use a lambda function with the filter() method to get numbers that are divisible by 5.\n",
    "x=[10,15,20,25,30]\n",
    "num=list(filter(lambda x: x % 5 == 0,x))\n",
    "print(num)"
   ]
  },
  {
   "cell_type": "code",
   "execution_count": 7,
   "id": "348a2b82-18b9-4efb-81c8-98a05aad3eb8",
   "metadata": {},
   "outputs": [
    {
     "name": "stdout",
     "output_type": "stream",
     "text": [
      "[('Mike', 6.0), ('John', 5.8), ('Anna', 5.5)]\n"
     ]
    }
   ],
   "source": [
    "#You have a list of tuples with names and heights: [('John', 5.8), ('Anna', 5.5), ('Mike', 6.0)]. Use a lambda function with the sorted() method to sort this list by height in descending order.\n",
    "heights = [('John', 5.8), ('Anna', 5.5), ('Mike', 6.0)]\n",
    "sorted_heights = sorted(heights, key=lambda x: x[1], reverse=True)\n",
    "print(sorted_heights)\n"
   ]
  },
  {
   "cell_type": "code",
   "execution_count": 18,
   "id": "bd4171e7-1f7d-4a20-a3c2-2a831e8c2ef2",
   "metadata": {},
   "outputs": [
    {
     "ename": "TypeError",
     "evalue": "'list' object is not callable",
     "output_type": "error",
     "traceback": [
      "\u001b[1;31m---------------------------------------------------------------------------\u001b[0m",
      "\u001b[1;31mTypeError\u001b[0m                                 Traceback (most recent call last)",
      "Cell \u001b[1;32mIn[18], line 4\u001b[0m\n\u001b[0;32m      1\u001b[0m \u001b[38;5;66;03m#Given a list[3, 6, 9, 12], use alambda functionwith the map() method to square each element in the list\u001b[39;00m\n\u001b[0;32m      3\u001b[0m lst \u001b[38;5;241m=\u001b[39m [\u001b[38;5;241m3\u001b[39m, \u001b[38;5;241m6\u001b[39m, \u001b[38;5;241m9\u001b[39m, \u001b[38;5;241m12\u001b[39m]\n\u001b[1;32m----> 4\u001b[0m M \u001b[38;5;241m=\u001b[39m\u001b[38;5;28mlist\u001b[39m(\u001b[38;5;28mmap\u001b[39m(\u001b[38;5;28;01mlambda\u001b[39;00m x: x\u001b[38;5;241m*\u001b[39m\u001b[38;5;241m*\u001b[39m\u001b[38;5;241m2\u001b[39m, lst))\n\u001b[0;32m      5\u001b[0m \u001b[38;5;28mprint\u001b[39m(M)\n",
      "\u001b[1;31mTypeError\u001b[0m: 'list' object is not callable"
     ]
    }
   ],
   "source": [
    "#Given a list[3, 6, 9, 12], use alambda functionwith the map() method to square each element in the list\n",
    "#try on vs code error on jupyter \n",
    "lst = [3, 6, 9, 12]\n",
    "M =list(map(lambda x: x**2, lst))\n",
    "print(M)\n"
   ]
  },
  {
   "cell_type": "code",
   "execution_count": 20,
   "id": "80a04738-5c41-48a8-93f7-cb76707875c5",
   "metadata": {},
   "outputs": [
    {
     "name": "stdin",
     "output_type": "stream",
     "text": [
      "enter the number: 3\n"
     ]
    },
    {
     "name": "stdout",
     "output_type": "stream",
     "text": [
      "number is positive 3\n"
     ]
    }
   ],
   "source": [
    "#Question 1\n",
    "# Write a Python program that checks if a given number is positive, negative, or zero.\n",
    "num=int(input(\"enter the number:\"))\n",
    "if num>0:\n",
    "    print(\"number is positive\",num)\n",
    "elif num<0:\n",
    "    print(\"number is negative\",num)\n",
    "else:\n",
    "    print(\"number is zero\",num)\n",
    "    "
   ]
  },
  {
   "cell_type": "code",
   "execution_count": 21,
   "id": "32f7a85a-c704-460b-8abd-21c4dc2c9edf",
   "metadata": {},
   "outputs": [
    {
     "name": "stdin",
     "output_type": "stream",
     "text": [
      "enter the year: 2024\n"
     ]
    },
    {
     "name": "stdout",
     "output_type": "stream",
     "text": [
      "leap year\n"
     ]
    }
   ],
   "source": [
    "#Question 2: Write a Python program that checks if a given year is a leap year or not.\n",
    "num=int(input(\"enter the year:\"))\n",
    "if num%4==0:\n",
    "    print(\"leap year\")\n",
    "else:\n",
    "    print(\"not leap year\")"
   ]
  },
  {
   "cell_type": "code",
   "execution_count": 24,
   "id": "cd444868-26d3-4682-90ab-f4b2f9763c42",
   "metadata": {},
   "outputs": [
    {
     "name": "stdin",
     "output_type": "stream",
     "text": [
      "enter the number: 22\n"
     ]
    },
    {
     "name": "stdout",
     "output_type": "stream",
     "text": [
      "even number: 22\n"
     ]
    }
   ],
   "source": [
    "#Question 3: Write a Python program to check if a given number is even or odd.\n",
    "num=int(input(\"enter the number:\"))\n",
    "if num%2==0:\n",
    "    print(\"even number:\",num)\n",
    "else:\n",
    "    print(\"odd number:\",num)\n",
    "    "
   ]
  },
  {
   "cell_type": "code",
   "execution_count": 26,
   "id": "412295b9-94e4-440d-a4d1-b168418b0b79",
   "metadata": {},
   "outputs": [
    {
     "name": "stdin",
     "output_type": "stream",
     "text": [
      "enter the number: 20\n"
     ]
    },
    {
     "name": "stdout",
     "output_type": "stream",
     "text": [
      "20  is divisible by 5 \n"
     ]
    }
   ],
   "source": [
    "#Question 4: Write a Python program that accepts a number from the user and checks if it is divisible by 5 and 3.\n",
    "num=int(input(\"enter the number:\"))\n",
    "if num%5==0:\n",
    "     print(num,\" is divisible by 5 \")\n",
    "elif num%3==0:\n",
    "    print(num,\" is divisible by 3\")\n",
    "else:\n",
    "    print(\" is not divisible by 5 and 3 both\")"
   ]
  },
  {
   "cell_type": "code",
   "execution_count": 29,
   "id": "9b17e34f-908a-4539-9b73-87e3f3c62ce6",
   "metadata": {},
   "outputs": [
    {
     "name": "stdout",
     "output_type": "stream",
     "text": [
      "c is largest number\n"
     ]
    }
   ],
   "source": [
    "#Question 5: Write a Python program that finds the largest of three given numbers.\n",
    "\n",
    "def largest_number(a,b,c):\n",
    "    if a>b and a>c:\n",
    "        print(\"a is largest number\")\n",
    "    elif b>c and b>a:\n",
    "        print(\"b is largest number\")\n",
    "    else:\n",
    "        print(\"c is largest number\")\n",
    "largest_number(34,45,84)\n",
    "    \n"
   ]
  },
  {
   "cell_type": "code",
   "execution_count": 32,
   "id": "a99d27b9-a201-402a-96cc-e402b64a5764",
   "metadata": {},
   "outputs": [
    {
     "name": "stdout",
     "output_type": "stream",
     "text": [
      "1\n",
      "2\n",
      "3\n",
      "4\n",
      "5\n",
      "6\n",
      "7\n",
      "8\n",
      "9\n",
      "10\n"
     ]
    }
   ],
   "source": [
    "#Question 6: Write a Python program that prints numbers from 1 to 10 using a while loop.\n",
    "i=1\n",
    "while i<11:\n",
    "    print(i)\n",
    "    i+=1"
   ]
  },
  {
   "cell_type": "code",
   "execution_count": 37,
   "id": "b3747363-cebb-4d2a-a79d-fc78e8550e95",
   "metadata": {},
   "outputs": [
    {
     "name": "stdout",
     "output_type": "stream",
     "text": [
      "1\n",
      "2\n",
      "3\n",
      "4\n",
      "5\n",
      "5\n"
     ]
    }
   ],
   "source": [
    "#Question 7: Write a Python program that calculates the sum of all numbers from 1 to a given number n using a while loop.\n",
    "sum=0\n",
    "i=1\n",
    "while i<6:\n",
    "    sum+=1\n",
    "    print(i)\n",
    "    i+=1\n",
    "print(sum)"
   ]
  },
  {
   "cell_type": "code",
   "execution_count": 38,
   "id": "9e5c1184-98f9-440c-a5b4-c6592fd4b3a2",
   "metadata": {},
   "outputs": [
    {
     "name": "stdin",
     "output_type": "stream",
     "text": [
      "Enter a number:  5\n"
     ]
    },
    {
     "name": "stdout",
     "output_type": "stream",
     "text": [
      "The factorial of 5 is 120\n"
     ]
    }
   ],
   "source": [
    "#Question 8: Write a Python program to find the factorial of a given number using a while loop.\n",
    "def factorial(n):\n",
    "    result = 1\n",
    "    while n > 1:\n",
    "        result *= n\n",
    "        n -= 1\n",
    "    return result\n",
    "num = int(input(\"Enter a number: \"))\n",
    "if num < 0:\n",
    "    print(\"Factorial is not defined for negative numbers.\")\n",
    "else:\n",
    "    print(f\"The factorial of {num} is {factorial(num)}\")\n"
   ]
  },
  {
   "cell_type": "code",
   "execution_count": 41,
   "id": "b4f1b3d3-58ba-46e8-a176-518bdf04a496",
   "metadata": {},
   "outputs": [
    {
     "name": "stdin",
     "output_type": "stream",
     "text": [
      "Please enter a number:  -6\n"
     ]
    },
    {
     "name": "stdout",
     "output_type": "stream",
     "text": [
      "The number is negative, try again.\n"
     ]
    },
    {
     "name": "stdin",
     "output_type": "stream",
     "text": [
      "Please enter a number:  5\n"
     ]
    },
    {
     "name": "stdout",
     "output_type": "stream",
     "text": [
      " entering a positive number.\n"
     ]
    }
   ],
   "source": [
    "#Question 9: Write a Python program that asks the user to enter a number and keeps asking until the user enters a positive number.\n",
    "\n",
    "while True:\n",
    "    number = float(input(\"Please enter a number: \"))\n",
    "    if number > 0:\n",
    "        print(\" entering a positive number.\")\n",
    "        break\n",
    "    else:\n",
    "        print(\"The number is negative, try again.\")\n",
    "\n",
    "    "
   ]
  },
  {
   "cell_type": "code",
   "execution_count": 47,
   "id": "f5c0fa05-a674-4043-995e-4cdcf123946c",
   "metadata": {},
   "outputs": [
    {
     "name": "stdout",
     "output_type": "stream",
     "text": [
      "0\n",
      "1\n",
      "1\n",
      "2\n",
      "3\n",
      "5\n",
      "8\n",
      "13\n",
      "21\n",
      "34\n"
     ]
    }
   ],
   "source": [
    "#Question 10: Write a Python program that prints the Fibonacci sequence up to n numbers using a while loop\n",
    "num=10\n",
    "a=0\n",
    "b=1\n",
    "j=0\n",
    "while j<num:\n",
    "    j=j+1\n",
    "    print(a)\n",
    "    a,b=b,a+b\n",
    "\n",
    "    "
   ]
  },
  {
   "cell_type": "code",
   "execution_count": 1,
   "id": "d476c266-f89b-42d1-aabf-dc5f520e960d",
   "metadata": {},
   "outputs": [
    {
     "name": "stdout",
     "output_type": "stream",
     "text": [
      "Hello, World!\n"
     ]
    }
   ],
   "source": [
    "#Question 1 How do you declare a string variable in Python?\n",
    "#Example: Declare a string variable called greeting with the value \"Hello, World!\".\n",
    "greeting=\"Hello, World!\"\n",
    "print(greeting)"
   ]
  },
  {
   "cell_type": "code",
   "execution_count": 2,
   "id": "6f868b34-13f0-4563-a881-77c12a29b122",
   "metadata": {},
   "outputs": [
    {
     "name": "stdout",
     "output_type": "stream",
     "text": [
      "6\n"
     ]
    }
   ],
   "source": [
    "#Question 2: Write a Python program to find the length of a string.\n",
    "#Example: For the string \"Python\", the output should be 6.\n",
    "x=\"Python\"\n",
    "print(len(x))"
   ]
  },
  {
   "cell_type": "code",
   "execution_count": 4,
   "id": "298c0d3a-a38c-430f-9f7d-3d43d0575bd6",
   "metadata": {},
   "outputs": [
    {
     "name": "stdout",
     "output_type": "stream",
     "text": [
      "HELLO\n"
     ]
    }
   ],
   "source": [
    "#Question 3 How do you convert a string to uppercase in Python?\n",
    "#Example: Convert\"hello\" to uppercase\n",
    "x=\"hello\"\n",
    "y=x.upper()\n",
    "print(y)"
   ]
  },
  {
   "cell_type": "code",
   "execution_count": 8,
   "id": "6c3932e5-8b28-4969-9f9a-7e2385560053",
   "metadata": {},
   "outputs": [
    {
     "name": "stdout",
     "output_type": "stream",
     "text": [
      "True\n"
     ]
    }
   ],
   "source": [
    "#Question 4: Write a Python program to check if a string contains a specific substring.\n",
    "#Example Check if the string\"Data Science\"contains the substring \"Science\"\n",
    "x=\"Data Science\"\n",
    "y=\"Science\"\n",
    "z=y in x\n",
    "print(z)\n"
   ]
  },
  {
   "cell_type": "code",
   "execution_count": 9,
   "id": "c35b9f6e-c863-4ff4-ab14-8e6304b0706d",
   "metadata": {},
   "outputs": [
    {
     "name": "stdout",
     "output_type": "stream",
     "text": [
      "The dog is on the mat\n"
     ]
    }
   ],
   "source": [
    "#Question 5: How can you replace a substring in a string with another substring?\n",
    "#Example: Replace\"cat\"with\"dog\"in the string\"The cat is on the mat\"\n",
    "x = \"The cat is on the mat\"\n",
    "y= x.replace(\"cat\", \"dog\")\n",
    "print(y)\n"
   ]
  },
  {
   "cell_type": "code",
   "execution_count": 11,
   "id": "8695cb18-722e-4b1f-bf8b-e61892f04b41",
   "metadata": {},
   "outputs": [
    {
     "name": "stdout",
     "output_type": "stream",
     "text": [
      "3\n"
     ]
    }
   ],
   "source": [
    "#Question 6: Write a Python program to count the number of occurrences of a character in a string.\n",
    "#Example: Count how many times the character'a'appears in\"banana\"\n",
    "x=\"banana\"\n",
    "y=x.count('a')\n",
    "print(y)"
   ]
  },
  {
   "cell_type": "code",
   "execution_count": 15,
   "id": "0a34669b-810a-4a6d-b257-5cb93153c01d",
   "metadata": {},
   "outputs": [
    {
     "name": "stdout",
     "output_type": "stream",
     "text": [
      "nohtyP\n"
     ]
    }
   ],
   "source": [
    "#Question 7: How do you reverse a string in Python?\n",
    "#Example: Reverse the string\"Python\"to get\"nohtyP\"\n",
    "x=\"Python\"\n",
    "print(x[::-1])"
   ]
  },
  {
   "cell_type": "code",
   "execution_count": 17,
   "id": "2c0657fd-b40d-4837-81d3-d486d1294cb9",
   "metadata": {},
   "outputs": [
    {
     "name": "stdout",
     "output_type": "stream",
     "text": [
      "string is palindrome\n"
     ]
    }
   ],
   "source": [
    "#Question 8: Write a Python program to check if a string is a palindrome.\n",
    "#Example: Check if the string \"madam\" is a palindrome.\n",
    "x=\"madam\"\n",
    "if x==x[::-1]:\n",
    "   print(\"string is palindrome\")\n",
    "else:\n",
    "   print(\"string is not palindrome\")\n",
    "    "
   ]
  },
  {
   "cell_type": "code",
   "execution_count": 19,
   "id": "4f4e69e9-5666-4e8a-acf2-0ef817ceb50a",
   "metadata": {},
   "outputs": [
    {
     "name": "stdout",
     "output_type": "stream",
     "text": [
      "['Python', 'is', 'fun']\n"
     ]
    }
   ],
   "source": [
    "#Question 9: How can you split a string into a list of words?\n",
    "#Example: Split the string\"Python is fun\"into a list of words.\n",
    "x=\"Python is fun\"\n",
    "y=x.split()\n",
    "print(y)"
   ]
  },
  {
   "cell_type": "code",
   "execution_count": 23,
   "id": "99401b59-14f7-4e66-8f2c-5388636979a9",
   "metadata": {},
   "outputs": [
    {
     "name": "stdout",
     "output_type": "stream",
     "text": [
      "Hello World\n"
     ]
    }
   ],
   "source": [
    "#Question 10: Write a Python program to remove whitespace from the beginning and end of a string.\n",
    "#Example: Remove leading and trailing spaces from the string\" Hello World \"to get\"Hello World\"\n",
    "x=\" Hello World \"\n",
    "y=x.strip()\n",
    "print(y)"
   ]
  },
  {
   "cell_type": "code",
   "execution_count": 24,
   "id": "74dd4f97-623d-46cd-bf05-53b9df51c5c6",
   "metadata": {},
   "outputs": [
    {
     "name": "stdout",
     "output_type": "stream",
     "text": [
      "My name is John\n"
     ]
    }
   ],
   "source": [
    "#Question 1: How do you use the .format() method to insert values into a string?\n",
    "#Example: Format \"My name is {} with the value \"John\".\n",
    "x= \"My name is {}\".format(\"John\")\n",
    "print(x)\n"
   ]
  },
  {
   "cell_type": "code",
   "execution_count": 30,
   "id": "24f7a144-98b2-48bc-8d85-e091f79648fb",
   "metadata": {},
   "outputs": [
    {
     "name": "stdout",
     "output_type": "stream",
     "text": [
      "[' ', ' ', ' ', ' ', '2', '5', 'I', 'a', 'a', 'd', 'e', 'l', 'm', 'o', 'r', 's', 'y']\n"
     ]
    }
   ],
   "source": [
    "#Question 2: How do you format a string using f-strings?\n",
    "#Example: Use an f-string to print\"I am 25 years old\"where age is stored in a variable.\n",
    "age = 25\n",
    "x = f\"I am {age} years old\"\n",
    "y = sorted(x)\n",
    "print(y)\n"
   ]
  },
  {
   "cell_type": "code",
   "execution_count": 32,
   "id": "9645a252-3684-4b56-b4c7-2fd7347c2ea3",
   "metadata": {},
   "outputs": [
    {
     "name": "stdout",
     "output_type": "stream",
     "text": [
      "3.14159\n"
     ]
    }
   ],
   "source": [
    "#Question 3: How can you format a floating-point number to 2 decimal places using the.format()method?\n",
    "#Example: Format the number3.14159 to3.14\n",
    "x=\"{}159\".format(3.14)\n",
    "print(x)"
   ]
  },
  {
   "cell_type": "code",
   "execution_count": 34,
   "id": "e4d6b8bf-3733-46fa-a3e3-c7f18b9a3284",
   "metadata": {},
   "outputs": [
    {
     "name": "stdout",
     "output_type": "stream",
     "text": [
      "1,000,000\n"
     ]
    }
   ],
   "source": [
    "#Question 4: Write a Python program to format a number with commas as thousands separators.\n",
    "#Example: Format1000000as\"1,000,000\"\n",
    "x=\"1{}000{}000\".format(\",\",\",\")\n",
    "print(x)"
   ]
  },
  {
   "cell_type": "code",
   "execution_count": 41,
   "id": "61577aa4-a725-40d6-ae2b-477f50709d4e",
   "metadata": {},
   "outputs": [
    {
     "name": "stdout",
     "output_type": "stream",
     "text": [
      "  hello   \n"
     ]
    }
   ],
   "source": [
    "#Question 5: How do you pad a string to a fixed width using f-strings?\n",
    "#Example: Pad\"hello\"to be 10 characters wide\n",
    "x=f\"{'hello':^10}\"\n",
    "print(x)"
   ]
  },
  {
   "cell_type": "code",
   "execution_count": 46,
   "id": "c24ecffc-d131-4920-823d-11d853934e3c",
   "metadata": {},
   "outputs": [
    {
     "name": "stdout",
     "output_type": "stream",
     "text": [
      "The result is 10\n"
     ]
    }
   ],
   "source": [
    "#Question 8: How can you format a string to include curly braces{}using.format()?\n",
    "#Example: Print\"The result is {value}\"where value is 10, without causing a syntax error\n",
    "x=\"The result is {}\".format(\"10\")\n",
    "print(x)"
   ]
  },
  {
   "cell_type": "code",
   "execution_count": 47,
   "id": "b526a7f1-f76c-4c54-835a-86283b8b18d2",
   "metadata": {},
   "outputs": [
    {
     "name": "stdout",
     "output_type": "stream",
     "text": [
      "Hello, my name is Alice and I am 30 years old\n"
     ]
    }
   ],
   "source": [
    "#Question 10: How do you format multiple variables in a string using both positional and keyword arguments with the.format()method?\n",
    "#Example: Format a string\"Hello, my name is {0} and I am {age} years old\"with values\"Alice\"and30\n",
    "x=\"Hello, my name is {} and I am {} years old\".format(\"Alice\",\"30\")\n",
    "print(x)"
   ]
  },
  {
   "cell_type": "code",
   "execution_count": null,
   "id": "2dd11533-8797-4690-aafe-3d109e560c29",
   "metadata": {},
   "outputs": [],
   "source": [
    "                                           #file handling"
   ]
  },
  {
   "cell_type": "code",
   "execution_count": 12,
   "id": "65d1866c-6cec-4743-830b-a8b4479b0ecc",
   "metadata": {},
   "outputs": [
    {
     "name": "stdout",
     "output_type": "stream",
     "text": [
      "create succussesfully....\n"
     ]
    }
   ],
   "source": [
    "#file handling\n",
    "#1 basic Write a Python program to create a new text file named sample.txt and write the text \"Hello, Python!\" into it.\n",
    "f=open('sample.txt',\"w\")\n",
    "f.write(\"hello,Python!\")\n",
    "print(\"create succussesfully....\")\n"
   ]
  },
  {
   "cell_type": "code",
   "execution_count": 15,
   "id": "df111b73-8aa4-437f-9e15-a05f5533e282",
   "metadata": {},
   "outputs": [
    {
     "name": "stdout",
     "output_type": "stream",
     "text": [
      "hello,welcome\n"
     ]
    }
   ],
   "source": [
    "#2Moderate:\n",
    "#Write a Python program to read a text file named data.txt line by line and print each line.\n",
    "f=open(\"data.txt \",\"w\")\n",
    "f.write(\"hello,welcome\")\n",
    "f=open(\"data.txt\",\"r\")\n",
    "print(f.readline())\n",
    "        "
   ]
  },
  {
   "cell_type": "code",
   "execution_count": 16,
   "id": "4968da00-39d4-4e75-9acb-25581e2e735e",
   "metadata": {},
   "outputs": [
    {
     "name": "stdout",
     "output_type": "stream",
     "text": [
      "hello , welcome to learn python..\n"
     ]
    }
   ],
   "source": [
    "#3 How do you open a file in Python for reading and writing? List the different file modes available ('r', 'w', 'a', 'r+', etc.).\n",
    "f=open(\"data.txt\",\"w\")\n",
    "f.write(\"hello , welcome to learn python..\")\n",
    "f=open(\"data.txt\",\"r\")\n",
    "print(f.read())\n"
   ]
  },
  {
   "cell_type": "code",
   "execution_count": 18,
   "id": "e38ca4f7-1506-46e0-a08a-3ffd7d0c7788",
   "metadata": {},
   "outputs": [
    {
     "name": "stdout",
     "output_type": "stream",
     "text": [
      "hello , welcome to learn python..New data added\n"
     ]
    }
   ],
   "source": [
    "#4 Write a Python program to append a new line \"New data added\" at the end of an existing file named log.txt without overwriting its content.\n",
    "f=open(\"log.txt\",\"w\")\n",
    "f.write(\"hello , welcome to learn python..\")\n",
    "\n",
    "f=open(\"log.txt\",\"a\")\n",
    "f.write(\"New data added\")\n",
    "f.close()\n",
    "f=open(\"log.txt\",\"r\")\n",
    "print(f.read())"
   ]
  },
  {
   "cell_type": "code",
   "execution_count": 19,
   "id": "98c4a59a-5516-4344-bd44-6cfbd8248a93",
   "metadata": {},
   "outputs": [
    {
     "name": "stdout",
     "output_type": "stream",
     "text": [
      "File contents:\n",
      "Hello, world!\n",
      "This is an example of using the with statement.\n"
     ]
    }
   ],
   "source": [
    "# 5What is the purpose of the with statement in file handling? Explain with an example.\n",
    "# Using the with statement to handle a file\n",
    "file_path = \"example.txt\"\n",
    "\n",
    "# Writing to the file\n",
    "with open(file_path, \"w\") as file:\n",
    "    file.write(\"Hello, world!\\n\")\n",
    "    file.write(\"This is an example of using the with statement.\")\n",
    "\n",
    "# Reading from the file\n",
    "with open(file_path, \"r\") as file:\n",
    "    content = file.read()\n",
    "    print(\"File contents:\")\n",
    "    print(content)\n"
   ]
  },
  {
   "cell_type": "code",
   "execution_count": 27,
   "id": "1076fefd-e8f5-4944-b08b-b72bc383a775",
   "metadata": {},
   "outputs": [
    {
     "name": "stdout",
     "output_type": "stream",
     "text": [
      "count number of words: {2}\n"
     ]
    }
   ],
   "source": [
    "#6write a Python program to count the number of words in a text file named words.txt.\n",
    "f=open(\"words.txt\",\"w\")\n",
    "f.write(\"hello!, welcome\")\n",
    "f=open(\"words.txt\",\"r\")\n",
    "\n",
    "content = f.read()  # Read the entire file content\n",
    "words = content.split()  # Split the content into words using whitespace\n",
    "word_count = len(words)  # Count the number of words\n",
    "\n",
    "print(\"count number of words:\",{word_count})"
   ]
  },
  {
   "cell_type": "code",
   "execution_count": 28,
   "id": "e2aa314e-4a04-4ced-8608-47a915de2ec0",
   "metadata": {},
   "outputs": [
    {
     "name": "stdout",
     "output_type": "stream",
     "text": [
      "The number of words in 'words.txt' is: 9\n"
     ]
    }
   ],
   "source": [
    "# Create the words.txt file and write some text into it\n",
    "with open(\"words.txt\", \"w\") as f:\n",
    "    f.write(\"Hello! This is a sample file containing multiple words.\")\n",
    "\n",
    "# Open the file in read mode and count the words\n",
    "with open(\"words.txt\", \"r\") as f:\n",
    "    content = f.read()  # Read the entire file content\n",
    "    words = content.split()  # Split the content into words using whitespace\n",
    "    word_count = len(words)  # Count the number of words\n",
    "\n",
    "print(f\"The number of words in 'words.txt' is: {word_count}\")\n"
   ]
  },
  {
   "cell_type": "code",
   "execution_count": null,
   "id": "e3f07ac8-f2a9-41d5-8105-51f026f1e02f",
   "metadata": {},
   "outputs": [],
   "source": [
    "                                 #scope"
   ]
  },
  {
   "cell_type": "code",
   "execution_count": 29,
   "id": "5a57fc4f-ffbe-4527-90cc-0cb0d3c59ec9",
   "metadata": {},
   "outputs": [
    {
     "name": "stdout",
     "output_type": "stream",
     "text": [
      "300\n"
     ]
    }
   ],
   "source": [
    "#scope\n",
    "# 1 What is the difference between local and global variables in Python? Provide an example for each.\n",
    "#local variable A variable created inside a function belongs to the local scope of that function, and can only be used inside that function.\n",
    "#while A variable created in the main body of the Python code is a global variable and belongs to the global scope.\n",
    "\n",
    "#ex for local \n",
    "def myfunc():\n",
    "    x=300\n",
    "    print(x)\n",
    "myfunc()\n",
    "\n"
   ]
  },
  {
   "cell_type": "code",
   "execution_count": 30,
   "id": "482e737b-6a49-4e42-b180-5250115add1e",
   "metadata": {},
   "outputs": [
    {
     "name": "stdout",
     "output_type": "stream",
     "text": [
      "300\n"
     ]
    }
   ],
   "source": [
    "#ex for global\n",
    "x=300\n",
    "def myfunc():\n",
    "    print(x)\n",
    "myfunc()\n"
   ]
  },
  {
   "cell_type": "code",
   "execution_count": 33,
   "id": "fa1e022c-3be8-4def-b143-f56384360ada",
   "metadata": {},
   "outputs": [
    {
     "name": "stdout",
     "output_type": "stream",
     "text": [
      "200\n"
     ]
    }
   ],
   "source": [
    "#2 Write a Python function that uses a global variable and modifies its value inside the function. Demonstrate with an example.\n",
    "x=300\n",
    "def myfunc():\n",
    "    global x\n",
    "    x=200\n",
    "    print(x)\n",
    "myfunc()\n"
   ]
  },
  {
   "cell_type": "code",
   "execution_count": 37,
   "id": "89289909-3740-45aa-b125-af23d91103ec",
   "metadata": {},
   "outputs": [
    {
     "name": "stdout",
     "output_type": "stream",
     "text": [
      "5\n",
      "10\n"
     ]
    }
   ],
   "source": [
    "#3 What is the output of the following code? Explain why.\n",
    "#ans because we print x=10 outside the function and x=5 inside the function after calling function then output is 5 and 10 \n",
    "x=10\n",
    "def my_function1():\n",
    "    x = 5\n",
    "    print(x)\n",
    "my_function1()\n",
    "print(x)"
   ]
  },
  {
   "cell_type": "code",
   "execution_count": 38,
   "id": "df6811d9-2aa8-48aa-90bf-973e67ce4bfd",
   "metadata": {},
   "outputs": [
    {
     "data": {
      "text/plain": [
       "'xyz'"
      ]
     },
     "execution_count": 38,
     "metadata": {},
     "output_type": "execute_result"
    }
   ],
   "source": [
    "#4Write a Python program to demonstrate the use of the nonlocal keyword inside nested functions.\n",
    "def fun():\n",
    "    x=\"abc\"\n",
    "    def fun2():\n",
    "        nonlocal x\n",
    "        x=\"xyz\"\n",
    "    fun2()\n",
    "    return x\n",
    "fun()"
   ]
  },
  {
   "cell_type": "code",
   "execution_count": 1,
   "id": "35c5df2e-b58a-421f-9701-5fb30e9f9c65",
   "metadata": {},
   "outputs": [],
   "source": [
    "                 #datestime\n"
   ]
  },
  {
   "cell_type": "code",
   "execution_count": 3,
   "id": "d6212fb7-a355-4b22-9ac7-06b898f61e4f",
   "metadata": {},
   "outputs": [
    {
     "name": "stdout",
     "output_type": "stream",
     "text": [
      "2024-11-18 15:02:31.537111\n"
     ]
    }
   ],
   "source": [
    "import datetime\n",
    "x=datetime.datetime.now()\n",
    "print(x)"
   ]
  },
  {
   "cell_type": "code",
   "execution_count": 5,
   "id": "ed2e3ce4-8498-4a6e-bacd-d4c5426e76cd",
   "metadata": {},
   "outputs": [
    {
     "name": "stdout",
     "output_type": "stream",
     "text": [
      "2024\n"
     ]
    }
   ],
   "source": [
    "print(x.year)"
   ]
  },
  {
   "cell_type": "code",
   "execution_count": null,
   "id": "49a12470-fa54-4c4f-8e7b-d0be078b6a61",
   "metadata": {},
   "outputs": [],
   "source": []
  }
 ],
 "metadata": {
  "kernelspec": {
   "display_name": "Python 3 (ipykernel)",
   "language": "python",
   "name": "python3"
  },
  "language_info": {
   "codemirror_mode": {
    "name": "ipython",
    "version": 3
   },
   "file_extension": ".py",
   "mimetype": "text/x-python",
   "name": "python",
   "nbconvert_exporter": "python",
   "pygments_lexer": "ipython3",
   "version": "3.12.7"
  }
 },
 "nbformat": 4,
 "nbformat_minor": 5
}
