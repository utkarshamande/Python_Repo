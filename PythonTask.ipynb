{
  "nbformat": 4,
  "nbformat_minor": 0,
  "metadata": {
    "colab": {
      "provenance": []
    },
    "kernelspec": {
      "name": "python3",
      "display_name": "Python 3"
    },
    "language_info": {
      "name": "python"
    }
  },
  "cells": [
    {
      "cell_type": "code",
      "execution_count": null,
      "metadata": {
        "colab": {
          "base_uri": "https://localhost:8080/"
        },
        "id": "F3jqVeDSiDB2",
        "outputId": "19500b62-8859-4227-d4c4-e9c026cef933"
      },
      "outputs": [
        {
          "output_type": "stream",
          "name": "stdout",
          "text": [
            "Hello,Python!\n"
          ]
        }
      ],
      "source": [
        "#1 print hello python\n",
        "print(\"Hello,Python!\")"
      ]
    },
    {
      "cell_type": "code",
      "source": [
        "#2 create a program that takes a users name as input and print a personlized greeting\n",
        "name=input(\"enter your name: \")\n",
        "print(\"Hello\",name)"
      ],
      "metadata": {
        "colab": {
          "base_uri": "https://localhost:8080/"
        },
        "id": "XkfbTK1Kidtb",
        "outputId": "c9c0ed02-43f7-4276-b3a5-aa64dea3c589"
      },
      "execution_count": null,
      "outputs": [
        {
          "output_type": "stream",
          "name": "stdout",
          "text": [
            "enter your name: utkarsha\n",
            "Hello utkarsha\n"
          ]
        }
      ]
    },
    {
      "cell_type": "code",
      "source": [
        "#3 program to check if a given number is even or odd\n",
        "num=int(input(\"enter a number: \"))\n",
        "if num%2==0:\n",
        "    print(num,\"Given number is even number.\")\n",
        "else:\n",
        "  print(num,\"Given number is odd number.\")"
      ],
      "metadata": {
        "colab": {
          "base_uri": "https://localhost:8080/"
        },
        "id": "HEtxQa_OkCPg",
        "outputId": "13b2cafe-6033-47f4-b910-2f9063559620"
      },
      "execution_count": null,
      "outputs": [
        {
          "output_type": "stream",
          "name": "stdout",
          "text": [
            "enter a number: 3\n",
            "3 Given number is odd number.\n"
          ]
        }
      ]
    },
    {
      "cell_type": "code",
      "source": [
        "#4 find sum of numbers from 1 to 10 using for loop\n",
        "sum=0\n",
        "for i in range(1,11):\n",
        "    sum+=i\n",
        "print(\"sum of numbers from 1 to 10 is:\",sum)"
      ],
      "metadata": {
        "colab": {
          "base_uri": "https://localhost:8080/"
        },
        "id": "GHBjeaNMkqNE",
        "outputId": "6789f932-6940-4eb2-d797-05d67b08524e"
      },
      "execution_count": null,
      "outputs": [
        {
          "output_type": "stream",
          "name": "stdout",
          "text": [
            "sum of numbers from 1 to 10 is: 55\n"
          ]
        }
      ]
    },
    {
      "cell_type": "code",
      "source": [
        "#5 write while loop that print numbers from 1 to 5\n",
        "i=1\n",
        "while i<=5:\n",
        "    print(i)\n",
        "    i+=1"
      ],
      "metadata": {
        "colab": {
          "base_uri": "https://localhost:8080/"
        },
        "id": "CXwMbVeYlOcP",
        "outputId": "c4b158b0-4c50-4852-f1b8-22e80ede8022"
      },
      "execution_count": null,
      "outputs": [
        {
          "output_type": "stream",
          "name": "stdout",
          "text": [
            "1\n",
            "2\n",
            "3\n",
            "4\n",
            "5\n"
          ]
        }
      ]
    },
    {
      "cell_type": "code",
      "source": [
        "#6 program that takes a number and prints its multiplication table using for loop\n",
        "num=int(input(\"enter a number:\"))\n",
        "for i in range(1,6):\n",
        "    print(num,\"*\",i,\"=\",num)"
      ],
      "metadata": {
        "colab": {
          "base_uri": "https://localhost:8080/"
        },
        "id": "Q35Jn0xqlkFq",
        "outputId": "ca0415a6-880e-43e3-a72a-43ded2775bfa"
      },
      "execution_count": null,
      "outputs": [
        {
          "output_type": "stream",
          "name": "stdout",
          "text": [
            "enter a number:4\n",
            "4 * 1 = 4\n",
            "4 * 2 = 4\n",
            "4 * 3 = 4\n",
            "4 * 4 = 4\n",
            "4 * 5 = 4\n"
          ]
        }
      ]
    },
    {
      "cell_type": "code",
      "source": [
        "#7 create a program to find the factorial of a number using for loop\n",
        "num=int(input(\"enter the number:\"))\n",
        "fact=1\n",
        "for i in range(1,num+1):\n",
        "    fact*=i\n",
        "print(\"factorial of \",num, \"is\", fact)"
      ],
      "metadata": {
        "colab": {
          "base_uri": "https://localhost:8080/"
        },
        "id": "3JiTi5wdmN_g",
        "outputId": "d2ce66fd-4f45-4086-bd95-54fd1e9ce8ab"
      },
      "execution_count": null,
      "outputs": [
        {
          "output_type": "stream",
          "name": "stdout",
          "text": [
            "enter the number:5\n",
            "factorial of  5 is 120\n"
          ]
        }
      ]
    },
    {
      "cell_type": "code",
      "source": [
        "#8 program to calculate area of circle using function\n",
        "import math\n",
        "def area_of_circle(radius):\n",
        "    area=math.pi*radius**2\n",
        "    return area\n",
        "radius=float(input(\"enter the radius:\"))\n",
        "area=area_of_circle(radius)\n",
        "print(\"area of circle is: \",area)\n"
      ],
      "metadata": {
        "colab": {
          "base_uri": "https://localhost:8080/"
        },
        "id": "fU9s5xCsndP_",
        "outputId": "aa9e302b-9d30-4a75-a97a-abe03f067625"
      },
      "execution_count": null,
      "outputs": [
        {
          "output_type": "stream",
          "name": "stdout",
          "text": [
            "enter the radius:25\n",
            "area of circle is:  1963.4954084936207\n"
          ]
        }
      ]
    },
    {
      "cell_type": "code",
      "source": [
        "#9 write a lambda function to multiply two numbers\n",
        "mul=lambda x,y:x*y\n",
        "mul(3,2)"
      ],
      "metadata": {
        "colab": {
          "base_uri": "https://localhost:8080/"
        },
        "id": "uXYvmhnHpADg",
        "outputId": "990f8980-e846-4219-98ee-36eec8ab5ac2"
      },
      "execution_count": null,
      "outputs": [
        {
          "output_type": "execute_result",
          "data": {
            "text/plain": [
              "6"
            ]
          },
          "metadata": {},
          "execution_count": 14
        }
      ]
    },
    {
      "cell_type": "code",
      "source": [
        "#10 create a list of integers and find the largest and smallest numbers in the list\n",
        "x=[23,34,345,988,90,5,332,38]\n",
        "print(\"Largest number is :\",max(x))\n",
        "print(\"Smallest number is :\",min(x))"
      ],
      "metadata": {
        "colab": {
          "base_uri": "https://localhost:8080/"
        },
        "id": "htBV8M0QpWF8",
        "outputId": "5feef1de-3795-4099-ff19-2efdb030c0ae"
      },
      "execution_count": null,
      "outputs": [
        {
          "output_type": "stream",
          "name": "stdout",
          "text": [
            "Largest number is : 988\n",
            "Smallest number is : 5\n"
          ]
        }
      ]
    },
    {
      "cell_type": "code",
      "source": [
        "#11 program to count the number of even and odd numbers in a list\n",
        "x=[23,34,1,2,56,78,85,34]\n",
        "even_count=0\n",
        "odd_count=0\n",
        "for i in x:\n",
        "    if i%2==0:\n",
        "        even_count+=1\n",
        "    else:\n",
        "        odd_count+=1\n",
        "print(\"Even number from list\",even_count)\n",
        "print(\"odd number from list\",odd_count)\n"
      ],
      "metadata": {
        "colab": {
          "base_uri": "https://localhost:8080/"
        },
        "id": "4xX1bs4op8p4",
        "outputId": "a7b3513a-0d35-4172-ba36-4ea73197005a"
      },
      "execution_count": null,
      "outputs": [
        {
          "output_type": "stream",
          "name": "stdout",
          "text": [
            "Even number from list 5\n",
            "odd number from list 3\n"
          ]
        }
      ]
    },
    {
      "cell_type": "code",
      "source": [
        "#12 create program to check if an element exits in tuple\n",
        "x=(\"apple\",\"banana\",\"cherry\",\"grapes\")\n",
        "if \"banana\" in x:\n",
        "  print(\"banana is exits in tuple\")\n",
        "else:\n",
        "  print(\"banana is not exits in tuple\")"
      ],
      "metadata": {
        "colab": {
          "base_uri": "https://localhost:8080/"
        },
        "id": "FoV5voR_rNMC",
        "outputId": "0c48d256-25c4-4aae-9a90-bc0ff0d359da"
      },
      "execution_count": null,
      "outputs": [
        {
          "output_type": "stream",
          "name": "stdout",
          "text": [
            "banana is exits in tuple\n"
          ]
        }
      ]
    },
    {
      "cell_type": "code",
      "source": [
        "#13 write a program to add two tuple\n",
        "x=(\"a\",\"e\",\"i\",\"o\",\"u\")\n",
        "y=(\"A\",\"E\",\"I\",\"O\",\"U\")\n",
        "z=x+y\n",
        "print(z)\n"
      ],
      "metadata": {
        "colab": {
          "base_uri": "https://localhost:8080/"
        },
        "id": "_QlqYCQysIwm",
        "outputId": "773cbfe5-de2f-4fa5-8f02-96e376acb412"
      },
      "execution_count": null,
      "outputs": [
        {
          "output_type": "stream",
          "name": "stdout",
          "text": [
            "('a', 'e', 'i', 'o', 'u', 'A', 'E', 'I', 'O', 'U')\n"
          ]
        }
      ]
    },
    {
      "cell_type": "code",
      "source": [
        "#14 create a dictionary that stores student names as keys and their marks as values\n",
        "clg={\"utkarsha\":89,\n",
        "     \"aryan\":90,\n",
        "     \"ayush\":98}\n",
        "print(clg)"
      ],
      "metadata": {
        "colab": {
          "base_uri": "https://localhost:8080/"
        },
        "id": "ONoXGlW9siIV",
        "outputId": "019fccf9-d0a3-4975-d76f-6f0201ead0e8"
      },
      "execution_count": null,
      "outputs": [
        {
          "output_type": "stream",
          "name": "stdout",
          "text": [
            "{'utkarsha': 89, 'aryan': 90, 'ayush': 98}\n"
          ]
        }
      ]
    },
    {
      "cell_type": "code",
      "source": [
        "#15 program ti sort a list of numbers in ascending order\n",
        "x=[23,32,45,67,39,69,89]\n",
        "x.sort()\n",
        "print(x)"
      ],
      "metadata": {
        "colab": {
          "base_uri": "https://localhost:8080/"
        },
        "id": "nms4dz0LtlM8",
        "outputId": "8f201e18-089b-4ee2-b8dd-7ebf21cf1659"
      },
      "execution_count": null,
      "outputs": [
        {
          "output_type": "stream",
          "name": "stdout",
          "text": [
            "[23, 32, 39, 45, 67, 69, 89]\n"
          ]
        }
      ]
    },
    {
      "cell_type": "code",
      "source": [
        "#16 program to reverse a string\n",
        "x=\"utkarsha\"\n",
        "print(x[::-1])"
      ],
      "metadata": {
        "colab": {
          "base_uri": "https://localhost:8080/"
        },
        "id": "Pqe1cMQqt1FW",
        "outputId": "c3d32198-3471-4d5e-8173-bd87751ae03a"
      },
      "execution_count": null,
      "outputs": [
        {
          "output_type": "stream",
          "name": "stdout",
          "text": [
            "ahsraktu\n"
          ]
        }
      ]
    },
    {
      "cell_type": "code",
      "source": [
        "#17 create a set of numbers and check if a specific number is present in the set\n",
        "x={\"a\",\"b\",\"c\",\"d\",\"e\"}\n",
        "if \"e\"in x:\n",
        "  print(\"e is present in set\")\n",
        "else:\n",
        "  print(\"e is not present in set\")"
      ],
      "metadata": {
        "colab": {
          "base_uri": "https://localhost:8080/"
        },
        "id": "0_LvYjHxt_fU",
        "outputId": "a7c7f525-c313-4bc8-a83c-068ee1a6161a"
      },
      "execution_count": null,
      "outputs": [
        {
          "output_type": "stream",
          "name": "stdout",
          "text": [
            "e is present in set\n"
          ]
        }
      ]
    },
    {
      "cell_type": "code",
      "source": [
        "#18 program to find the union of two set\n",
        "a={1,2,3,4,5}\n",
        "b={6,7,8,9,10}\n",
        "c=a.union(b)\n",
        "print(c)"
      ],
      "metadata": {
        "colab": {
          "base_uri": "https://localhost:8080/"
        },
        "id": "sRnKkGGiuukK",
        "outputId": "4461c059-2aa8-4538-d7a4-46cd83a605a9"
      },
      "execution_count": null,
      "outputs": [
        {
          "output_type": "stream",
          "name": "stdout",
          "text": [
            "{1, 2, 3, 4, 5, 6, 7, 8, 9, 10}\n"
          ]
        }
      ]
    },
    {
      "cell_type": "code",
      "source": [
        "#19 intersection of two set\n",
        "x={\"apple\",\"banana\",\"cherry\"}\n",
        "y={\"name\",\"goole\",\"apple\"}\n",
        "z=x.intersection(y)\n",
        "print(z)"
      ],
      "metadata": {
        "colab": {
          "base_uri": "https://localhost:8080/"
        },
        "id": "pq2cgLuRvCT_",
        "outputId": "49714092-0e3e-437a-a460-d6383bd87a50"
      },
      "execution_count": null,
      "outputs": [
        {
          "output_type": "stream",
          "name": "stdout",
          "text": [
            "{'apple'}\n"
          ]
        }
      ]
    },
    {
      "cell_type": "code",
      "source": [
        "#20 create a funtion that return the square of given number\n",
        "def square(x):\n",
        "    return x**2\n",
        "print(square(2))"
      ],
      "metadata": {
        "colab": {
          "base_uri": "https://localhost:8080/"
        },
        "id": "dgRLzB7Pvof9",
        "outputId": "53ecb83e-111a-44ae-f031-8fbc9e1ec9b9"
      },
      "execution_count": null,
      "outputs": [
        {
          "output_type": "stream",
          "name": "stdout",
          "text": [
            "4\n"
          ]
        }
      ]
    },
    {
      "cell_type": "code",
      "source": [
        "#21 find the sum of all element in list\n",
        "x=[1,2,3,4,5]\n",
        "sum=0\n",
        "for i in x:\n",
        "    sum+=i\n",
        "print(sum)"
      ],
      "metadata": {
        "colab": {
          "base_uri": "https://localhost:8080/"
        },
        "id": "VJNvoTycwFPc",
        "outputId": "49591478-ae4b-4490-ad9f-223f9c696df6"
      },
      "execution_count": null,
      "outputs": [
        {
          "output_type": "stream",
          "name": "stdout",
          "text": [
            "15\n"
          ]
        }
      ]
    },
    {
      "cell_type": "code",
      "source": [
        "#22 create a list of string and concatenate all the string into one\n",
        "x=[\"a\",\"b\",\"c\",\"d\"]\n",
        "y=[\"e\",\"f\",\"g\",\"h\"]\n",
        "z=x+y\n",
        "print(z)\n"
      ],
      "metadata": {
        "colab": {
          "base_uri": "https://localhost:8080/"
        },
        "id": "2Z5rhiepwd0M",
        "outputId": "72d42cee-59f4-4d38-b4ad-411e0630f028"
      },
      "execution_count": null,
      "outputs": [
        {
          "output_type": "stream",
          "name": "stdout",
          "text": [
            "['a', 'b', 'c', 'd', 'e', 'f', 'g', 'h']\n"
          ]
        }
      ]
    },
    {
      "cell_type": "code",
      "source": [
        "x=[\"a\",\"b\",\"c\",\"d\"]\n",
        "y=\"\".join(x)\n",
        "print(y)"
      ],
      "metadata": {
        "colab": {
          "base_uri": "https://localhost:8080/"
        },
        "id": "w0OsPoJOw4KJ",
        "outputId": "a1a332fe-b866-426f-903f-8574646dc855"
      },
      "execution_count": null,
      "outputs": [
        {
          "output_type": "stream",
          "name": "stdout",
          "text": [
            "abcd\n"
          ]
        }
      ]
    },
    {
      "cell_type": "code",
      "source": [
        "#23 program to convert tuple into list\n",
        "x=(\"xyz\",\"abc\",\"efg\")\n",
        "y=list(x)\n",
        "print(y)"
      ],
      "metadata": {
        "colab": {
          "base_uri": "https://localhost:8080/"
        },
        "id": "_pvhopzZxVPZ",
        "outputId": "6b6ba7e2-2fc3-4663-ead2-044ccda92687"
      },
      "execution_count": null,
      "outputs": [
        {
          "output_type": "stream",
          "name": "stdout",
          "text": [
            "['xyz', 'abc', 'efg']\n"
          ]
        }
      ]
    },
    {
      "cell_type": "code",
      "source": [
        "#24 create a program that takes two list and return their intersection\n",
        "x=[\"a\",\"b\",\"c\",\"d\"]\n",
        "y=[\"b\",\"e\",\"d\",\"f\"]\n",
        "z=set(x).intersection(y)\n",
        "print(z)"
      ],
      "metadata": {
        "colab": {
          "base_uri": "https://localhost:8080/"
        },
        "id": "75iNoKZ6xqB_",
        "outputId": "ca79d13d-5d41-43f8-dd25-f8bd6e66c092"
      },
      "execution_count": null,
      "outputs": [
        {
          "output_type": "stream",
          "name": "stdout",
          "text": [
            "{'d', 'b'}\n"
          ]
        }
      ]
    },
    {
      "cell_type": "code",
      "source": [
        "#25 program to count the frequency of each character in a string\n",
        "x=\"utkarsha\"\n",
        "freq={}\n",
        "for i in x:\n",
        "    if i in freq:\n",
        "        freq[i]+=1\n",
        "    else:\n",
        "        freq[i]=1\n",
        "print(freq)"
      ],
      "metadata": {
        "colab": {
          "base_uri": "https://localhost:8080/"
        },
        "id": "jnIKODP9yq9G",
        "outputId": "559cc54f-74bc-4e33-ae57-a37b22fdeea1"
      },
      "execution_count": null,
      "outputs": [
        {
          "output_type": "stream",
          "name": "stdout",
          "text": [
            "{'u': 1, 't': 1, 'k': 1, 'a': 2, 'r': 1, 's': 1, 'h': 1}\n"
          ]
        }
      ]
    },
    {
      "cell_type": "code",
      "source": [
        "#26 write a function to check if a number is positive,negative,or zero\n",
        "x=int(input(\"enter the number: \"))\n",
        "if x>0:\n",
        "  print(\"number is positive\")\n",
        "elif x<0:\n",
        "  print(\"number is negative\")\n",
        "else:\n",
        "  print(\"number is zero\")"
      ],
      "metadata": {
        "colab": {
          "base_uri": "https://localhost:8080/"
        },
        "id": "SLcD-C_a0Ywf",
        "outputId": "cb284ead-749e-4a6e-b752-87dc28b24ed4"
      },
      "execution_count": null,
      "outputs": [
        {
          "output_type": "stream",
          "name": "stdout",
          "text": [
            "enter the number: 5\n",
            "number is positive\n"
          ]
        }
      ]
    },
    {
      "cell_type": "code",
      "source": [
        "#27 create a dictionary with fruit names as keys and their colors as values\n",
        "fruits={\"apple\":\"red\",\"banana\":\"yellow\",\"cherry\":\"red\",\"grapes\":\"green\"}\n",
        "print(fruits)"
      ],
      "metadata": {
        "colab": {
          "base_uri": "https://localhost:8080/"
        },
        "id": "gy38TbJr1OQL",
        "outputId": "94e260bf-afb6-40c1-b9a3-adba0ea3ada7"
      },
      "execution_count": null,
      "outputs": [
        {
          "output_type": "stream",
          "name": "stdout",
          "text": [
            "{'apple': 'red', 'banana': 'yellow', 'cherry': 'red', 'grapes': 'green'}\n"
          ]
        }
      ]
    },
    {
      "cell_type": "code",
      "source": [
        "#28 write a program to check if a string is a palindrome\n",
        "x=\"pop\"\n",
        "if x==x[::-1]:\n",
        "  print(\"string is palindrome\")\n",
        "else:\n",
        "  print(\"string is not palindrome\")\n"
      ],
      "metadata": {
        "colab": {
          "base_uri": "https://localhost:8080/"
        },
        "id": "uUwx81vE2Ny2",
        "outputId": "b3a7553a-6044-41d3-fb1a-e728f7ac8ec8"
      },
      "execution_count": null,
      "outputs": [
        {
          "output_type": "stream",
          "name": "stdout",
          "text": [
            "string is palindrome\n"
          ]
        }
      ]
    },
    {
      "cell_type": "code",
      "source": [
        "#29 program to find the length of a list without using the len() function\n",
        "x=[1,2,3,4,5]\n",
        "count=0                  #count is used for finding length\n",
        "for i in x:\n",
        "    count+=1\n",
        "print(count)"
      ],
      "metadata": {
        "colab": {
          "base_uri": "https://localhost:8080/"
        },
        "id": "vH7ieMWp23e7",
        "outputId": "6ddc9525-55bf-4daa-efa7-63d5eb93c1ec"
      },
      "execution_count": null,
      "outputs": [
        {
          "output_type": "stream",
          "name": "stdout",
          "text": [
            "5\n"
          ]
        }
      ]
    },
    {
      "cell_type": "code",
      "source": [
        "#30 write a function to convert a list of intergers into a tuple\n",
        "x=[1,2,3,4,5,6,7]\n",
        "y=tuple(x)\n",
        "print(y)"
      ],
      "metadata": {
        "colab": {
          "base_uri": "https://localhost:8080/"
        },
        "id": "w_6G59eO3geM",
        "outputId": "870f779d-38d3-4853-aaba-48b495da6ff6"
      },
      "execution_count": null,
      "outputs": [
        {
          "output_type": "stream",
          "name": "stdout",
          "text": [
            "(1, 2, 3, 4, 5, 6, 7)\n"
          ]
        }
      ]
    },
    {
      "cell_type": "code",
      "source": [
        "#31 create a program that generates a list of numbers from 1 to 20 using a loop\n",
        "for i in range(1,21):\n",
        "    print(i)"
      ],
      "metadata": {
        "colab": {
          "base_uri": "https://localhost:8080/"
        },
        "id": "vKC7S9fq343a",
        "outputId": "b15a255d-c20a-481f-c077-45f9fe2e76e8"
      },
      "execution_count": null,
      "outputs": [
        {
          "output_type": "stream",
          "name": "stdout",
          "text": [
            "1\n",
            "2\n",
            "3\n",
            "4\n",
            "5\n",
            "6\n",
            "7\n",
            "8\n",
            "9\n",
            "10\n",
            "11\n",
            "12\n",
            "13\n",
            "14\n",
            "15\n",
            "16\n",
            "17\n",
            "18\n",
            "19\n",
            "20\n"
          ]
        }
      ]
    },
    {
      "cell_type": "code",
      "source": [
        "#32 write a lambda function to find the square of number\n",
        "square=lambda x:x**2\n",
        "print(square(3))"
      ],
      "metadata": {
        "colab": {
          "base_uri": "https://localhost:8080/"
        },
        "id": "HKMu1GlcJj3S",
        "outputId": "8e9da8e8-3330-49c8-9327-af9e38068120"
      },
      "execution_count": null,
      "outputs": [
        {
          "output_type": "stream",
          "name": "stdout",
          "text": [
            "9\n"
          ]
        }
      ]
    },
    {
      "cell_type": "code",
      "source": [
        "#33 write a function to check if a number is prime\n",
        "num=int(input(\"enter the number: \"))\n",
        "if num>1:\n",
        "   for i in range(2,num):\n",
        "      if num%i==0:\n",
        "        print(num,\"is not prime number\")\n",
        "        break\n",
        "      else:\n",
        "        print(num,\"is prime number\")\n",
        "        break\n",
        "\n",
        "else:\n",
        "  print(num,\"is not prime number\")"
      ],
      "metadata": {
        "colab": {
          "base_uri": "https://localhost:8080/"
        },
        "id": "VYBsTO_1KqwV",
        "outputId": "496fd704-fa6f-49a9-c939-1f60b4abcc59"
      },
      "execution_count": null,
      "outputs": [
        {
          "output_type": "stream",
          "name": "stdout",
          "text": [
            "enter the number: 23\n",
            "23 is prime number\n"
          ]
        }
      ]
    },
    {
      "cell_type": "code",
      "source": [
        "#34 print the fibonacci sequence up to a given number\n",
        "n=int(input(\"enter the number:\"))\n",
        "a=0\n",
        "b=1\n",
        "print(a)\n",
        "print(b)\n",
        "for i in range(2,n):\n",
        "   c=a+b\n",
        "   print(c)\n",
        "   a=b\n",
        "   b=c"
      ],
      "metadata": {
        "colab": {
          "base_uri": "https://localhost:8080/"
        },
        "id": "Ht78aH6nLev2",
        "outputId": "91c609f0-3baf-4f91-fa69-4bce48215b18"
      },
      "execution_count": null,
      "outputs": [
        {
          "output_type": "stream",
          "name": "stdout",
          "text": [
            "enter the number:5\n",
            "0\n",
            "1\n",
            "1\n",
            "2\n",
            "3\n"
          ]
        }
      ]
    },
    {
      "cell_type": "code",
      "source": [
        "#35 write a program to sort a list of string in alphabetical order\n",
        "x=[\"utkarsha\",\"aryan\",\"ayush\",\"dhruva\"]\n",
        "x.sort()\n",
        "print(x)"
      ],
      "metadata": {
        "colab": {
          "base_uri": "https://localhost:8080/"
        },
        "id": "BOioXMThMQyH",
        "outputId": "94648188-a022-47ea-d205-388de19dc665"
      },
      "execution_count": null,
      "outputs": [
        {
          "output_type": "stream",
          "name": "stdout",
          "text": [
            "['aryan', 'ayush', 'dhruva', 'utkarsha']\n"
          ]
        }
      ]
    },
    {
      "cell_type": "code",
      "source": [
        "#36 create a set  and add element to it using a loop\n",
        "x={\"a\",\"b\",\"c\",\"d\",\"e\"}\n",
        "for i in range(1,6):\n",
        "    x.add(i)\n",
        "print(x)"
      ],
      "metadata": {
        "colab": {
          "base_uri": "https://localhost:8080/"
        },
        "id": "rp0GgEtxMwcd",
        "outputId": "ffe68255-1b4d-4020-a1c7-d654495a110a"
      },
      "execution_count": null,
      "outputs": [
        {
          "output_type": "stream",
          "name": "stdout",
          "text": [
            "{1, 2, 3, 4, 5, 'd', 'a', 'e', 'c', 'b'}\n"
          ]
        }
      ]
    },
    {
      "cell_type": "code",
      "source": [
        "#37 program to remove dupicates from list\n",
        "x=[1,2,3,2,3,4,5,5,6,7]\n",
        "z=set(x)\n",
        "print(z)"
      ],
      "metadata": {
        "colab": {
          "base_uri": "https://localhost:8080/"
        },
        "id": "Om7DZrmkOx7d",
        "outputId": "98e7f6d4-da8c-4554-df8c-19237dfa17aa"
      },
      "execution_count": null,
      "outputs": [
        {
          "output_type": "stream",
          "name": "stdout",
          "text": [
            "{1, 2, 3, 4, 5, 6, 7}\n"
          ]
        }
      ]
    },
    {
      "cell_type": "code",
      "source": [
        "#38 find max and min element from dictionary\n",
        "x={\"a\":10,\"b\":20,\"c\":30,\"d\":40}\n",
        "max=max(x.values())\n",
        "min=min(x.values())\n",
        "print(\"maximum value is\",max)\n",
        "print(\"minimum value is\",min)"
      ],
      "metadata": {
        "colab": {
          "base_uri": "https://localhost:8080/"
        },
        "id": "ImswFJ9MPe5W",
        "outputId": "1933383c-775c-4950-d5e6-1d4594af998c"
      },
      "execution_count": null,
      "outputs": [
        {
          "output_type": "stream",
          "name": "stdout",
          "text": [
            "maximum value is 40\n",
            "minimum value is 10\n"
          ]
        }
      ]
    },
    {
      "cell_type": "code",
      "source": [
        "#39 create a program that reverses a list of number\n",
        "x=[1,2,3,4,5]                   #reverse is used for reversing list\n",
        "x.reverse()\n",
        "print(x)"
      ],
      "metadata": {
        "colab": {
          "base_uri": "https://localhost:8080/"
        },
        "id": "uikRardnQEXk",
        "outputId": "ec47fe9d-6e3a-4e0a-c701-5924b5fad45b"
      },
      "execution_count": null,
      "outputs": [
        {
          "output_type": "stream",
          "name": "stdout",
          "text": [
            "[5, 4, 3, 2, 1]\n"
          ]
        }
      ]
    },
    {
      "cell_type": "code",
      "source": [
        "#40 program to find the sum of even numbers from 1 to 50\n",
        "sum=0\n",
        "for i in range(1,51):\n",
        "   if  i%2==0:\n",
        "    sum+=i\n",
        "print(sum )"
      ],
      "metadata": {
        "colab": {
          "base_uri": "https://localhost:8080/"
        },
        "id": "pmuUh2vxQVOw",
        "outputId": "f74a150f-2caf-4075-80e1-4c219e2dfda8"
      },
      "execution_count": null,
      "outputs": [
        {
          "output_type": "stream",
          "name": "stdout",
          "text": [
            "650\n"
          ]
        }
      ]
    },
    {
      "cell_type": "code",
      "source": [
        "#41 program to count the number of vowels in a string\n",
        "x=\"utkarsha mande\"\n",
        "count=0\n",
        "for i in x:\n",
        "    if i in \"aeiouAEIOU\":\n",
        "        count+=1\n",
        "print(count)"
      ],
      "metadata": {
        "colab": {
          "base_uri": "https://localhost:8080/"
        },
        "id": "PRNbi7OmQuzq",
        "outputId": "7577fdbc-54e2-4d4b-95e4-3ebc9feb48a6"
      },
      "execution_count": null,
      "outputs": [
        {
          "output_type": "stream",
          "name": "stdout",
          "text": [
            "5\n"
          ]
        }
      ]
    },
    {
      "cell_type": "code",
      "source": [
        "#42 find second largest number in list\n",
        "x=[84,54,23,59,34,78,9]\n",
        "x.sort()\n",
        "print(x[-2])"
      ],
      "metadata": {
        "colab": {
          "base_uri": "https://localhost:8080/"
        },
        "id": "xrRXaOSARMNt",
        "outputId": "c08981c7-398f-437d-c162-191de4cf696c"
      },
      "execution_count": null,
      "outputs": [
        {
          "output_type": "stream",
          "name": "stdout",
          "text": [
            "78\n"
          ]
        }
      ]
    },
    {
      "cell_type": "code",
      "source": [
        "#43 write a function to check if a given is an anagram of another string\n",
        "def check(a1,b2):\n",
        "    if (sorted(a1)==sorted(b2)):\n",
        "        print(\"anagram\")\n",
        "    else:\n",
        "        print(\"not anagram\")\n",
        "a1=\"pot\"\n",
        "b2=\"top\"\n",
        "check(a1,b2)"
      ],
      "metadata": {
        "colab": {
          "base_uri": "https://localhost:8080/"
        },
        "id": "O1e1cTeZRlbq",
        "outputId": "d86a9789-64d6-41f9-919b-6c536e78a0dc"
      },
      "execution_count": null,
      "outputs": [
        {
          "output_type": "stream",
          "name": "stdout",
          "text": [
            "anagram\n"
          ]
        }
      ]
    },
    {
      "cell_type": "code",
      "source": [
        "#44 creates a program that sorts a dictionary by its values\n",
        "x={\"car\":\"enova\",\"color\":\"gray\",\"brand\":\"tata\"}\n",
        "y=sorted(x.values())\n",
        "print(y)\n"
      ],
      "metadata": {
        "colab": {
          "base_uri": "https://localhost:8080/"
        },
        "id": "csxyDbbNTJkQ",
        "outputId": "a50cd2fc-a5ac-40c7-f479-a9a683b7a0e6"
      },
      "execution_count": null,
      "outputs": [
        {
          "output_type": "stream",
          "name": "stdout",
          "text": [
            "['enova', 'gray', 'tata']\n"
          ]
        }
      ]
    },
    {
      "cell_type": "code",
      "source": [
        "#45 write a program to remove all occurances of a specificed element from a list\n",
        "x=[1,2,3,4,5]\n",
        "x.remove(3)\n",
        "print(x)\n",
        "\n"
      ],
      "metadata": {
        "colab": {
          "base_uri": "https://localhost:8080/"
        },
        "id": "N6oQGavyT496",
        "outputId": "07898182-0637-47ec-ddcb-7fb5689b40ca"
      },
      "execution_count": null,
      "outputs": [
        {
          "output_type": "stream",
          "name": "stdout",
          "text": [
            "[1, 2, 4, 5]\n"
          ]
        }
      ]
    },
    {
      "cell_type": "code",
      "source": [
        "#46 find sum of digits of a given number\n",
        "x=int(input(\"enter the number\"))\n",
        "sum=0\n",
        "while x>0:\n",
        "    digits=x%10\n",
        "    sum+=digits\n",
        "    x//=10\n",
        "print(sum)"
      ],
      "metadata": {
        "colab": {
          "base_uri": "https://localhost:8080/"
        },
        "id": "zdThC65KUdWq",
        "outputId": "f62c3e84-e6e4-4f21-d8c0-b7b5063ff96d"
      },
      "execution_count": null,
      "outputs": [
        {
          "output_type": "stream",
          "name": "stdout",
          "text": [
            "enter the number 23425\n",
            "16\n"
          ]
        }
      ]
    },
    {
      "cell_type": "code",
      "source": [
        "#47 create a lambda function to check if a number is even or odd\n",
        "even_odd=lambda x:\"even\" if x%2==0 else \"odd\"\n",
        "print(even_odd(4))"
      ],
      "metadata": {
        "colab": {
          "base_uri": "https://localhost:8080/"
        },
        "id": "jmrPGZ45UuYz",
        "outputId": "989abfc1-49a8-4587-eb93-f30888fe027b"
      },
      "execution_count": null,
      "outputs": [
        {
          "output_type": "stream",
          "name": "stdout",
          "text": [
            "even\n"
          ]
        }
      ]
    },
    {
      "cell_type": "code",
      "source": [
        "#48 write a function to merge two dictionaries\n",
        "#in dictionary ** arbitary operator is used\n",
        "x={\"a\":1,\"b\":2,\"c\":3,\"d\":4}\n",
        "\n",
        "y={\"e\":5,\"f\":6,\"g\":7,\"h\":8}\n",
        "c={**x,**y}\n",
        "\n",
        "print(c)"
      ],
      "metadata": {
        "id": "f5mJVgd2V1jv",
        "colab": {
          "base_uri": "https://localhost:8080/"
        },
        "outputId": "3f9dee6c-2f69-4ffc-ba82-3f7e37f6ac56"
      },
      "execution_count": null,
      "outputs": [
        {
          "output_type": "stream",
          "name": "stdout",
          "text": [
            "{'a': 1, 'b': 2, 'c': 3, 'd': 4, 'e': 5, 'f': 6, 'g': 7, 'h': 8}\n"
          ]
        }
      ]
    },
    {
      "cell_type": "code",
      "source": [
        "#49 create a list comphrension to generate squares of numbers from 1 to 10.\n",
        "for i in range(1,11):\n",
        "  print(i**2)"
      ],
      "metadata": {
        "colab": {
          "base_uri": "https://localhost:8080/"
        },
        "id": "xDwTKUIX1sTT",
        "outputId": "11111099-49f4-4413-d3be-89e5f1dcb4cc"
      },
      "execution_count": null,
      "outputs": [
        {
          "output_type": "stream",
          "name": "stdout",
          "text": [
            "1\n",
            "4\n",
            "9\n",
            "16\n",
            "25\n",
            "36\n",
            "49\n",
            "64\n",
            "81\n",
            "100\n"
          ]
        }
      ]
    },
    {
      "cell_type": "code",
      "source": [
        "#50 find commom elements between two list\n",
        "x=[1,2,3,4,5]\n",
        "y=[4,5,6,7,8]\n",
        "z=set(x).intersection(y)\n",
        "print(z)"
      ],
      "metadata": {
        "colab": {
          "base_uri": "https://localhost:8080/"
        },
        "id": "V5walDG12a11",
        "outputId": "6d6f053c-d7c8-45ef-8f13-5da32492f67c"
      },
      "execution_count": null,
      "outputs": [
        {
          "output_type": "stream",
          "name": "stdout",
          "text": [
            "{4, 5}\n"
          ]
        }
      ]
    },
    {
      "cell_type": "code",
      "source": [
        "#51 create a program to check if a list is empty\n",
        "x=[]\n",
        "if not x:\n",
        "  print(\"list is empty\")\n",
        "else:\n",
        "  print(\"list is not empty\")"
      ],
      "metadata": {
        "colab": {
          "base_uri": "https://localhost:8080/"
        },
        "id": "SQG5n2TY2t2l",
        "outputId": "7d4fd04b-0820-412f-e544-179c8a2f1533"
      },
      "execution_count": null,
      "outputs": [
        {
          "output_type": "stream",
          "name": "stdout",
          "text": [
            "list is empty\n"
          ]
        }
      ]
    },
    {
      "cell_type": "code",
      "source": [
        "#52 program to find the cumulative sum of list\n",
        "x=[1,2,3,4,5]\n",
        "cum_sum=[]\n",
        "sum=0\n",
        "for i in x:\n",
        "    sum+=i\n",
        "    cum_sum.append(sum)\n",
        "print(cum_sum)"
      ],
      "metadata": {
        "colab": {
          "base_uri": "https://localhost:8080/"
        },
        "id": "ZTL7EKZ33NiI",
        "outputId": "b9d98f72-8977-4ae9-b5af-7623da3d896b"
      },
      "execution_count": null,
      "outputs": [
        {
          "output_type": "stream",
          "name": "stdout",
          "text": [
            "[1, 3, 6, 10, 15]\n"
          ]
        }
      ]
    },
    {
      "cell_type": "code",
      "source": [
        "#53 write a function to count the number of words in a string\n",
        "a=\"utkarsha\"\n",
        "print(len(a))"
      ],
      "metadata": {
        "id": "HHilhEvQ3r_m",
        "colab": {
          "base_uri": "https://localhost:8080/"
        },
        "outputId": "5caa9cb6-6a4a-4bd9-f6aa-671a857a8b55"
      },
      "execution_count": null,
      "outputs": [
        {
          "output_type": "stream",
          "name": "stdout",
          "text": [
            "8\n"
          ]
        }
      ]
    },
    {
      "cell_type": "code",
      "source": [
        "#54 create a program to find the longest words in a string\n",
        "x=\"dhruva is a good girl\"\n",
        "y=max(x)\n",
        "print(y)"
      ],
      "metadata": {
        "colab": {
          "base_uri": "https://localhost:8080/"
        },
        "id": "yTayKpwuDF5s",
        "outputId": "c471d90a-184a-43c4-dfdb-6e74105022cd"
      },
      "execution_count": null,
      "outputs": [
        {
          "output_type": "stream",
          "name": "stdout",
          "text": [
            "v\n"
          ]
        }
      ]
    },
    {
      "cell_type": "code",
      "source": [
        "#55 write a function that return the first non repeated character in a string\n",
        "x=\"utkarsha\"\n",
        "for i in x:\n",
        "  if x.count(i)==1:\n",
        "     print(i)\n",
        "     break\n",
        "  else:\n",
        "    print(\"non repeated character in string\")"
      ],
      "metadata": {
        "id": "2wxsdmkaEGMd",
        "colab": {
          "base_uri": "https://localhost:8080/"
        },
        "outputId": "7ad27418-31b8-4345-f0f9-8b7486396fa3"
      },
      "execution_count": null,
      "outputs": [
        {
          "output_type": "stream",
          "name": "stdout",
          "text": [
            "u\n"
          ]
        }
      ]
    },
    {
      "cell_type": "code",
      "source": [
        "#56 create program that checks if two sets are disjoint\n",
        "x={1,2,3,4,5}\n",
        "y={6,7,8,9,10}\n",
        "if x.isdisjoint(y):\n",
        "  print(\"two sets are disjoint\")\n",
        "else:\n",
        "  print(\"two sets are not disjoint\")"
      ],
      "metadata": {
        "colab": {
          "base_uri": "https://localhost:8080/"
        },
        "id": "4hj2Q7kZH1Cj",
        "outputId": "8456e284-273a-408e-a6f2-bae5d5dc4b4f"
      },
      "execution_count": null,
      "outputs": [
        {
          "output_type": "stream",
          "name": "stdout",
          "text": [
            "two sets are disjoint\n"
          ]
        }
      ]
    },
    {
      "cell_type": "code",
      "source": [
        "#57 write a program to remove the nth occurance of a word from a list\n",
        "x={\"a\",\"b\",\"c\",\"d\",\"e\"}\n",
        "\n",
        "x.remove(\"b\")\n",
        "print(x)"
      ],
      "metadata": {
        "colab": {
          "base_uri": "https://localhost:8080/"
        },
        "id": "tE9Z2SQMIuRq",
        "outputId": "2161dc08-2f78-4b3c-e17f-400a7bf3aa7d"
      },
      "execution_count": null,
      "outputs": [
        {
          "output_type": "stream",
          "name": "stdout",
          "text": [
            "{'a', 'd', 'e', 'c'}\n"
          ]
        }
      ]
    },
    {
      "cell_type": "code",
      "source": [
        "#58 function to convert aq list of tuple into a dictionary\n",
        "x=[(\"a\",1),(\"b\",2),(\"c\",3)]\n",
        "y=dict(x)\n",
        "print(y)"
      ],
      "metadata": {
        "colab": {
          "base_uri": "https://localhost:8080/"
        },
        "id": "ltXtcgLAJk20",
        "outputId": "50afb8fc-c8ed-44d1-c421-771b35c2da38"
      },
      "execution_count": null,
      "outputs": [
        {
          "output_type": "stream",
          "name": "stdout",
          "text": [
            "{'a': 1, 'b': 2, 'c': 3}\n"
          ]
        }
      ]
    },
    {
      "cell_type": "code",
      "source": [
        "#59 create a program that generates a list of even numbers using a loop and lambda function\n",
        "even_numbers=list(filter(lambda x:x%2==0,range(1,21)))\n",
        "print(even_numbers)\n",
        "\n",
        "\n"
      ],
      "metadata": {
        "colab": {
          "base_uri": "https://localhost:8080/"
        },
        "id": "ZHtklKKjKIq5",
        "outputId": "8c5c8cab-5a95-4006-b0f6-a2f5f948643a"
      },
      "execution_count": null,
      "outputs": [
        {
          "output_type": "stream",
          "name": "stdout",
          "text": [
            "[2, 4, 6, 8, 10, 12, 14, 16, 18, 20]\n"
          ]
        }
      ]
    },
    {
      "cell_type": "code",
      "source": [
        "#60 program to check if a tuple is empty\n",
        "x=()\n",
        "if not x:\n",
        "  print(\"tuple is empty\")\n",
        "else:\n",
        "  print(\"tuple is not empty\")"
      ],
      "metadata": {
        "colab": {
          "base_uri": "https://localhost:8080/"
        },
        "id": "zcFCJqy0LEe2",
        "outputId": "bb1ab082-f815-4cc4-bfe2-16c0d2300321"
      },
      "execution_count": null,
      "outputs": [
        {
          "output_type": "stream",
          "name": "stdout",
          "text": [
            "tuple is empty\n"
          ]
        }
      ]
    },
    {
      "cell_type": "code",
      "source": [
        "#61 create a progrm to merge two lists without dupicates\n",
        "x=[1,2,3,4,5]\n",
        "y=[4,5,6,7,8]\n",
        "z=set(x).union(y)\n",
        "print(z)"
      ],
      "metadata": {
        "colab": {
          "base_uri": "https://localhost:8080/"
        },
        "id": "Orz0U6o-NgMD",
        "outputId": "c9c0950b-a205-49fc-ac51-c3d5a8992cc9"
      },
      "execution_count": null,
      "outputs": [
        {
          "output_type": "stream",
          "name": "stdout",
          "text": [
            "{1, 2, 3, 4, 5, 6, 7, 8}\n"
          ]
        }
      ]
    },
    {
      "cell_type": "code",
      "source": [
        "#62 write a function to find the factorial of a number using recursion\n",
        "#using recursion\n",
        "def factorial(n):\n",
        "  if n==0:\n",
        "    return 1\n",
        "  else:\n",
        "    return n*factorial(n-1)\n",
        "print(factorial(5))"
      ],
      "metadata": {
        "colab": {
          "base_uri": "https://localhost:8080/"
        },
        "id": "yUHCaYWfN2W-",
        "outputId": "285860b2-3857-4e76-d6bf-5a436586d958"
      },
      "execution_count": null,
      "outputs": [
        {
          "output_type": "stream",
          "name": "stdout",
          "text": [
            "120\n"
          ]
        }
      ]
    },
    {
      "cell_type": "code",
      "source": [
        "#63 program to convert a string to lowercase without using built-in functions\n",
        "x=\"UTKARSHA\"\n",
        "y=\"\"\n",
        "for i in x:\n",
        "  if ord(i)>=65 and ord(i)<=97:\n",
        "    y+=chr(ord(i)+32)\n",
        "  else:\n",
        "    y+=i\n",
        "print(y)\n"
      ],
      "metadata": {
        "colab": {
          "base_uri": "https://localhost:8080/"
        },
        "id": "c_pG983EOeJ3",
        "outputId": "946d0e99-cc99-46e2-b27b-94081334c317"
      },
      "execution_count": null,
      "outputs": [
        {
          "output_type": "stream",
          "name": "stdout",
          "text": [
            "utkarsha\n"
          ]
        }
      ]
    },
    {
      "cell_type": "code",
      "source": [
        "#64 find common keys in two dictinaries\n",
        "x={\"name\":\"ukarsha\",\"company\":\"baap \"}\n",
        "y={\"name\":\"utkarsha\",\"age\":20}\n",
        "z=set(x.keys()).intersection(y.keys())\n",
        "print(z)"
      ],
      "metadata": {
        "colab": {
          "base_uri": "https://localhost:8080/"
        },
        "id": "_Bn4ZFceO8CY",
        "outputId": "a904c0cf-711d-479b-ecb3-f2b813bb03f6"
      },
      "execution_count": null,
      "outputs": [
        {
          "output_type": "stream",
          "name": "stdout",
          "text": [
            "{'name'}\n"
          ]
        }
      ]
    },
    {
      "cell_type": "code",
      "source": [
        "#65 write a program to find the sum of elements in a nested list\n",
        "x=[[1,2,3],[4,5,6],[7,8,9]]\n",
        "sum=0\n",
        "for i in x:\n",
        "  for j in i:\n",
        "    sum+=j\n",
        "print(sum)"
      ],
      "metadata": {
        "colab": {
          "base_uri": "https://localhost:8080/"
        },
        "id": "TM5q8FdASElo",
        "outputId": "0691f67f-8606-4c27-a8f1-5c724f6fdd2e"
      },
      "execution_count": null,
      "outputs": [
        {
          "output_type": "stream",
          "name": "stdout",
          "text": [
            "45\n"
          ]
        }
      ]
    },
    {
      "cell_type": "code",
      "source": [
        "#66 function to find index of an element in a list\n",
        "x=[1,2,3,4,5]\n",
        "y=x.index(4)\n",
        "print(y)"
      ],
      "metadata": {
        "colab": {
          "base_uri": "https://localhost:8080/"
        },
        "id": "aLCzF4iCTpl2",
        "outputId": "68052561-2fcb-4a0e-cb1b-997089b1a8ed"
      },
      "execution_count": null,
      "outputs": [
        {
          "output_type": "stream",
          "name": "stdout",
          "text": [
            "3\n"
          ]
        }
      ]
    },
    {
      "cell_type": "code",
      "source": [
        "\n",
        "#67 program to check if a number is palindrome\n",
        "x=101\n",
        "if x==x[::-1]:\n",
        "  print(\"number is palindrome\")\n",
        "else:\n",
        "  print(\"number is nit palindrome\")"
      ],
      "metadata": {
        "colab": {
          "base_uri": "https://localhost:8080/",
          "height": 211
        },
        "id": "uRCihYF6T3VB",
        "outputId": "68a2e12f-1604-4017-f365-e79f46fc7233"
      },
      "execution_count": null,
      "outputs": [
        {
          "output_type": "error",
          "ename": "TypeError",
          "evalue": "'int' object is not subscriptable",
          "traceback": [
            "\u001b[0;31m---------------------------------------------------------------------------\u001b[0m",
            "\u001b[0;31mTypeError\u001b[0m                                 Traceback (most recent call last)",
            "\u001b[0;32m<ipython-input-4-35983db13f44>\u001b[0m in \u001b[0;36m<cell line: 3>\u001b[0;34m()\u001b[0m\n\u001b[1;32m      1\u001b[0m \u001b[0;31m#67 program to check if a number is palindrome\u001b[0m\u001b[0;34m\u001b[0m\u001b[0;34m\u001b[0m\u001b[0m\n\u001b[1;32m      2\u001b[0m \u001b[0mx\u001b[0m\u001b[0;34m=\u001b[0m\u001b[0;36m101\u001b[0m\u001b[0;34m\u001b[0m\u001b[0;34m\u001b[0m\u001b[0m\n\u001b[0;32m----> 3\u001b[0;31m \u001b[0;32mif\u001b[0m \u001b[0mx\u001b[0m\u001b[0;34m==\u001b[0m\u001b[0mx\u001b[0m\u001b[0;34m[\u001b[0m\u001b[0;34m:\u001b[0m\u001b[0;34m:\u001b[0m\u001b[0;34m-\u001b[0m\u001b[0;36m1\u001b[0m\u001b[0;34m]\u001b[0m\u001b[0;34m:\u001b[0m\u001b[0;34m\u001b[0m\u001b[0;34m\u001b[0m\u001b[0m\n\u001b[0m\u001b[1;32m      4\u001b[0m   \u001b[0mprint\u001b[0m\u001b[0;34m(\u001b[0m\u001b[0;34m\"number is palindrome\"\u001b[0m\u001b[0;34m)\u001b[0m\u001b[0;34m\u001b[0m\u001b[0;34m\u001b[0m\u001b[0m\n\u001b[1;32m      5\u001b[0m \u001b[0;32melse\u001b[0m\u001b[0;34m:\u001b[0m\u001b[0;34m\u001b[0m\u001b[0;34m\u001b[0m\u001b[0m\n",
            "\u001b[0;31mTypeError\u001b[0m: 'int' object is not subscriptable"
          ]
        }
      ]
    },
    {
      "cell_type": "code",
      "source": [
        "#68 write a program to replace vowels in a string with a specified character\n",
        "x=\"utkarsha\"\n",
        "y=\"\"\n",
        "for i in x:\n",
        "  if i in \"aeiouAEIOU\":\n",
        "    y+=\"*\"\n",
        "  else:\n",
        "    y+=i\n",
        "print(y)"
      ],
      "metadata": {
        "colab": {
          "base_uri": "https://localhost:8080/"
        },
        "id": "MEsES-YHUUcY",
        "outputId": "f53b7d20-0be9-439b-e441-ddfa3c4d8252"
      },
      "execution_count": null,
      "outputs": [
        {
          "output_type": "stream",
          "name": "stdout",
          "text": [
            "*tk*rsh*\n"
          ]
        }
      ]
    },
    {
      "cell_type": "code",
      "source": [
        "#69 create a function to count the number of uppercase and lowercase letters in a string\n",
        "x=\"Utkarsha\"\n",
        "upper=0\n",
        "lower=0\n",
        "for i in x:\n",
        "  if ord(i)>=65 and ord(i)<=90:\n",
        "    upper+=1\n",
        "  elif ord(i)>=97 and ord(i)<=122:\n",
        "    lower+=1\n",
        "print(\"upper case letters are\",upper)\n",
        "print(\"lower case letters are\",lower)"
      ],
      "metadata": {
        "id": "450-kI5ybuGB",
        "colab": {
          "base_uri": "https://localhost:8080/"
        },
        "outputId": "b40524e3-f312-4aed-da4c-2108538b016d"
      },
      "execution_count": null,
      "outputs": [
        {
          "output_type": "stream",
          "name": "stdout",
          "text": [
            "upper case letters are 1\n",
            "lower case letters are 7\n"
          ]
        }
      ]
    },
    {
      "cell_type": "code",
      "source": [
        "#70 write program to find the mode of list of numbers.\n",
        "def mode(x):\n",
        "    freq={}\n",
        "    for i in x:\n",
        "        if i in freq:\n",
        "            freq[i]+=1\n",
        "        else:\n",
        "            freq[i]=1\n",
        "    max_freq=max(freq.values())\n",
        "    return x\n",
        "x=[1,2,3,2,3,4,5,5,6,7]\n",
        "print(mode(x))\n"
      ],
      "metadata": {
        "colab": {
          "base_uri": "https://localhost:8080/"
        },
        "id": "PzPJO49QWY7w",
        "outputId": "ef5a50b8-1b56-430e-f84d-152c3129e7ed"
      },
      "execution_count": null,
      "outputs": [
        {
          "output_type": "stream",
          "name": "stdout",
          "text": [
            "[1, 2, 3, 2, 3, 4, 5, 5, 6, 7]\n"
          ]
        }
      ]
    },
    {
      "cell_type": "code",
      "source": [
        "#71 create lambda function to find the product of two numbers\n",
        "product=lambda a,b:a*b\n",
        "print(product(2,4))"
      ],
      "metadata": {
        "colab": {
          "base_uri": "https://localhost:8080/"
        },
        "id": "o-Qk9kKbXrzV",
        "outputId": "81129b1e-106b-45c9-b192-4b2d8e3c59ee"
      },
      "execution_count": null,
      "outputs": [
        {
          "output_type": "stream",
          "name": "stdout",
          "text": [
            "8\n"
          ]
        }
      ]
    },
    {
      "cell_type": "code",
      "source": [
        "#72 write a program to create a new list with elements that are commom to two given lists\n",
        "x=[1,2,3,4,5]\n",
        "y=[5,6,7,8,2]\n",
        "z=set(x).intersection(y)\n",
        "print(z)"
      ],
      "metadata": {
        "colab": {
          "base_uri": "https://localhost:8080/"
        },
        "id": "NjneW0VqYgnF",
        "outputId": "678c9940-0b5b-4529-e712-b6225dae87e0"
      },
      "execution_count": null,
      "outputs": [
        {
          "output_type": "stream",
          "name": "stdout",
          "text": [
            "{2, 5}\n"
          ]
        }
      ]
    },
    {
      "cell_type": "code",
      "source": [
        "#73 write a program to remove all the vowels from a string\n",
        "x=\"utkarsha\"\n",
        "y=\"\"\n",
        "for i in x:\n",
        "  if i in \"aeiouAEIOU\":\n",
        "    y+=\"\"\n",
        "  else:\n",
        "    y+=i\n",
        "print(y)"
      ],
      "metadata": {
        "colab": {
          "base_uri": "https://localhost:8080/"
        },
        "id": "3TgKBn5MZBbl",
        "outputId": "e80ebbb4-8b8f-494a-d7d5-193eb277c307"
      },
      "execution_count": null,
      "outputs": [
        {
          "output_type": "stream",
          "name": "stdout",
          "text": [
            "tkrsh\n"
          ]
        }
      ]
    },
    {
      "cell_type": "code",
      "source": [
        "#74 create a function to reverse a list of tuple\n",
        "x=[(1,2),(3,4),(5,6)]\n",
        "y=list(reversed(x))\n",
        "print(y)"
      ],
      "metadata": {
        "colab": {
          "base_uri": "https://localhost:8080/"
        },
        "id": "FvU7Ytc1Zh5A",
        "outputId": "3bff4186-f9cf-4bd4-86a2-bd682a19bbbe"
      },
      "execution_count": null,
      "outputs": [
        {
          "output_type": "stream",
          "name": "stdout",
          "text": [
            "[(5, 6), (3, 4), (1, 2)]\n"
          ]
        }
      ]
    },
    {
      "cell_type": "code",
      "source": [
        "#75 write a program to create a dictionary from two list\n",
        "x=[\"a\",\"b\",\"c\"]\n",
        "y=[1,2,3]\n",
        "z=dict(zip(x,y))\n",
        "print(z)"
      ],
      "metadata": {
        "colab": {
          "base_uri": "https://localhost:8080/"
        },
        "id": "CdozBuwXZ6Km",
        "outputId": "ceb857f7-5dd3-410f-94fe-984df6ea3ffa"
      },
      "execution_count": null,
      "outputs": [
        {
          "output_type": "stream",
          "name": "stdout",
          "text": [
            "{'a': 1, 'b': 2, 'c': 3}\n"
          ]
        }
      ]
    },
    {
      "cell_type": "code",
      "source": [
        "#76 write a function to find the GCD (greate common divisor)of two number\n",
        "def gcd(a,b):\n",
        "  if b==0:\n",
        "    return a\n",
        "  else:\n",
        "    return gcd(b,a%b)\n",
        "print(gcd(12,18))"
      ],
      "metadata": {
        "colab": {
          "base_uri": "https://localhost:8080/"
        },
        "id": "6zj2llakaOTE",
        "outputId": "b7a356e2-a48e-4b0e-db15-a4a244bf22b1"
      },
      "execution_count": null,
      "outputs": [
        {
          "output_type": "stream",
          "name": "stdout",
          "text": [
            "6\n"
          ]
        }
      ]
    },
    {
      "cell_type": "code",
      "source": [
        "#77 crete a program to check if a string contain only digits\n",
        "x=\"12345\"\n",
        "if x.isdigit():\n",
        "  print(\"string contain only digits\")\n",
        "else:\n",
        "  print(\"string does not contain only digits\")\n",
        "\n"
      ],
      "metadata": {
        "colab": {
          "base_uri": "https://localhost:8080/"
        },
        "id": "dQnCTWsSau24",
        "outputId": "3754a4bf-be75-4287-f90e-290748300841"
      },
      "execution_count": null,
      "outputs": [
        {
          "output_type": "stream",
          "name": "stdout",
          "text": [
            "string contain only digits\n"
          ]
        }
      ]
    },
    {
      "cell_type": "code",
      "source": [
        "#78 write program to sort a list of tuple based on the second element\n",
        "x=[(\"a\",1),(\"b\",2),(\"c\",3)]\n",
        "x.sort(key=lambda x:x[1])\n",
        "print(x)"
      ],
      "metadata": {
        "colab": {
          "base_uri": "https://localhost:8080/"
        },
        "id": "UJv2ll_jbrmf",
        "outputId": "add63df5-0a99-4a4c-d44c-4a21499964b0"
      },
      "execution_count": null,
      "outputs": [
        {
          "output_type": "stream",
          "name": "stdout",
          "text": [
            "[('a', 1), ('b', 2), ('c', 3)]\n"
          ]
        }
      ]
    },
    {
      "cell_type": "code",
      "source": [
        "#79 create a function to check if a list of numbers is sorted in a asecending order\n",
        "x=[1,2,3,4,5]\n",
        "if x==sorted(x):\n",
        "  print(\"list is sorted in ascending order\")\n",
        "else:\n",
        "  print(\"list is not sorted in ascending order\")"
      ],
      "metadata": {
        "colab": {
          "base_uri": "https://localhost:8080/"
        },
        "id": "0W3aA0KIcvcQ",
        "outputId": "e465cc14-e84f-4661-b54e-ac5ce0a9d201"
      },
      "execution_count": null,
      "outputs": [
        {
          "output_type": "stream",
          "name": "stdout",
          "text": [
            "list is sorted in ascending order\n"
          ]
        }
      ]
    },
    {
      "cell_type": "code",
      "source": [
        "#80 write a program to split a list into two parts,where the first part contains even numbers and second part contain odd numbers\n",
        "x=[1,2,3,4,5,6,7,8,9,10]\n",
        "even=[]\n",
        "odd=[]\n",
        "for i in x:\n",
        "  if i%2==0:\n",
        "    even.append(i)\n",
        "  else:\n",
        "    odd.append(i)\n",
        "print(even)\n",
        "print(odd)\n",
        "\n",
        "\n",
        "\n"
      ],
      "metadata": {
        "colab": {
          "base_uri": "https://localhost:8080/"
        },
        "id": "cC2NrftTdDbs",
        "outputId": "b9a0d144-5eb9-47ae-da54-7dee4cfe8845"
      },
      "execution_count": null,
      "outputs": [
        {
          "output_type": "stream",
          "name": "stdout",
          "text": [
            "[2, 4, 6, 8, 10]\n",
            "[1, 3, 5, 7, 9]\n"
          ]
        }
      ]
    },
    {
      "cell_type": "code",
      "source": [],
      "metadata": {
        "id": "ZdiY8MYpdtlQ"
      },
      "execution_count": null,
      "outputs": []
    }
  ]
}