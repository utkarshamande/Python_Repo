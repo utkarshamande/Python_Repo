{
  "cells": [
    {
      "cell_type": "code",
      "execution_count": null,
      "metadata": {
        "colab": {
          "base_uri": "https://localhost:8080/"
        },
        "id": "rA6WVKu5mZdW",
        "outputId": "44ef7494-8452-4845-ecf2-b3110477e6b1"
      },
      "outputs": [
        {
          "name": "stdout",
          "output_type": "stream",
          "text": [
            "*****\n",
            "****\n",
            "***\n",
            "**\n",
            "*\n"
          ]
        }
      ],
      "source": [
        "for i in range(5,0,-1):\n",
        "  print(\"*\"*i)"
      ]
    },
    {
      "cell_type": "code",
      "execution_count": null,
      "metadata": {
        "colab": {
          "base_uri": "https://localhost:8080/"
        },
        "id": "bMyzJlapmjwO",
        "outputId": "243ab172-2cab-4795-8bee-a82d839bf04a"
      },
      "outputs": [
        {
          "name": "stdout",
          "output_type": "stream",
          "text": [
            " * \n",
            " *  * \n",
            " *  *  * \n",
            " *  *  *  * \n",
            " *  *  *  *  * \n"
          ]
        }
      ],
      "source": [
        "for i in range(1,6):\n",
        "  print(\" * \"*i)"
      ]
    },
    {
      "cell_type": "code",
      "execution_count": null,
      "metadata": {
        "colab": {
          "base_uri": "https://localhost:8080/"
        },
        "id": "C7GcSFFQm42x",
        "outputId": "78ff646d-dd3a-4250-b8bc-861e56786035"
      },
      "outputs": [
        {
          "name": "stdout",
          "output_type": "stream",
          "text": [
            "     * \n",
            "    * * \n",
            "   * * * \n",
            "  * * * * \n",
            " * * * * * \n"
          ]
        }
      ],
      "source": [
        "for i in range(1,6):\n",
        "  print(\" \"*(6-i)+\"* \"*i)"
      ]
    },
    {
      "cell_type": "code",
      "execution_count": null,
      "metadata": {
        "colab": {
          "base_uri": "https://localhost:8080/"
        },
        "id": "kJ-qyGckDrtb",
        "outputId": "eb1783d8-eb9e-44ca-81b6-d3a9b9cf2295"
      },
      "outputs": [
        {
          "name": "stdout",
          "output_type": "stream",
          "text": [
            "     * \n",
            "    * * \n",
            "   * * * \n",
            "  * * * * \n",
            " * * * * * \n"
          ]
        }
      ],
      "source": [
        "for i in range(1,6):\n",
        "  print(\" \"*(6-i)+\"* \"*i)"
      ]
    },
    {
      "cell_type": "code",
      "execution_count": null,
      "metadata": {
        "colab": {
          "base_uri": "https://localhost:8080/"
        },
        "id": "DMSh2Vn9D_Qw",
        "outputId": "1179a4f0-0789-47dc-9a50-adbd0d45e852"
      },
      "outputs": [
        {
          "name": "stdout",
          "output_type": "stream",
          "text": [
            " * * * * * \n",
            "  * * * * \n",
            "   * * * \n",
            "    * * \n",
            "     * \n"
          ]
        }
      ],
      "source": [
        "for i in range(5,0,-1):\n",
        "  print(\" \"*(6-i)+ \"* \"*i)"
      ]
    },
    {
      "cell_type": "code",
      "execution_count": null,
      "metadata": {
        "colab": {
          "base_uri": "https://localhost:8080/"
        },
        "id": "NPIs2pZ9ByVX",
        "outputId": "7a545767-0b84-4e37-f64c-1ad99e42f3e8"
      },
      "outputs": [
        {
          "name": "stdout",
          "output_type": "stream",
          "text": [
            "     * \n",
            "    * * \n",
            "   * * * \n",
            "  * * * * \n",
            " * * * * * \n",
            " * * * * * \n",
            "  * * * * \n",
            "   * * * \n",
            "    * * \n",
            "     * \n"
          ]
        }
      ],
      "source": [
        "for i in range(1,6):\n",
        "  print(\" \"*(6-i)+\"* \"*i)\n",
        "for i in range(5,0,-1):\n",
        "  print(\" \"*(6-i)+\"* \"*i)"
      ]
    },
    {
      "cell_type": "code",
      "execution_count": null,
      "metadata": {
        "id": "Nj4K7ggIt994"
      },
      "outputs": [],
      "source": []
    },
    {
      "cell_type": "code",
      "execution_count": null,
      "metadata": {
        "colab": {
          "base_uri": "https://localhost:8080/"
        },
        "id": "J2QPiKVBt955",
        "outputId": "f1be6b83-fb80-4e6b-fe73-6a09a87c24cb"
      },
      "outputs": [
        {
          "name": "stdout",
          "output_type": "stream",
          "text": [
            "     * \n",
            "    * * \n",
            "   * * * \n",
            "  * * * * \n",
            " * * * * * \n",
            " * * * * * \n",
            "  * * * * \n",
            "   * * * \n",
            "    * * \n",
            "     * \n"
          ]
        }
      ],
      "source": [
        "for i in range(1,6):\n",
        "  print(\" \"*(6-i)+\"* \"*i)\n",
        "for i in range(5,0,-1):\n",
        "  print(\" \"*(6-i)+\"* \"*i)"
      ]
    },
    {
      "cell_type": "code",
      "execution_count": null,
      "metadata": {
        "colab": {
          "base_uri": "https://localhost:8080/"
        },
        "id": "boBH4XycEdNo",
        "outputId": "acb8f27a-64b6-458f-d053-4be55a5d39cc"
      },
      "outputs": [
        {
          "name": "stdout",
          "output_type": "stream",
          "text": [
            "     * \n",
            "    * * \n",
            "   * * * \n",
            "  * * * * \n",
            " * * * * * \n",
            " * * * * * \n",
            "  * * * * \n",
            "   * * * \n",
            "    * * \n",
            "     * \n"
          ]
        }
      ],
      "source": [
        "for i  in range(1,6):\n",
        "  print(\" \"*(6-i)+\"* \"*i)\n",
        "for i in range(5,0,-1):\n",
        "  print(\" \"*(6-i)+\"* \"*i)"
      ]
    },
    {
      "cell_type": "code",
      "execution_count": null,
      "metadata": {
        "colab": {
          "base_uri": "https://localhost:8080/"
        },
        "id": "XZ6UvjuNndnJ",
        "outputId": "f455101f-a441-4472-b199-74b30297d411"
      },
      "outputs": [
        {
          "name": "stdout",
          "output_type": "stream",
          "text": [
            " * * * * * \n",
            "  * * * * \n",
            "   * * * \n",
            "    * * \n",
            "     * \n"
          ]
        }
      ],
      "source": [
        "for i in range(5,0,-1):\n",
        "  print(\" \"*(6-i)+\"* \"*i)"
      ]
    },
    {
      "cell_type": "code",
      "execution_count": null,
      "metadata": {
        "colab": {
          "base_uri": "https://localhost:8080/"
        },
        "id": "Rn3ZNfiWn56m",
        "outputId": "d30a7491-62da-4992-9706-b6ae37b5462f"
      },
      "outputs": [
        {
          "name": "stdout",
          "output_type": "stream",
          "text": [
            "Enter temperature in Celsius: 32\n",
            "32.0°C is equal to 89.6°F\n"
          ]
        }
      ],
      "source": [
        "# Function to convert Celsius to Fahrenheit\n",
        "def celsius_to_fahrenheit(celsius):\n",
        "    fahrenheit = (celsius * 9/5) + 32\n",
        "    return fahrenheit\n",
        "\n",
        "# Example usage\n",
        "celsius_temp = float(input(\"Enter temperature in Celsius: \"))\n",
        "fahrenheit_temp = celsius_to_fahrenheit(celsius_temp)\n",
        "print(f\"{celsius_temp}°C is equal to {fahrenheit_temp}°F\")\n"
      ]
    },
    {
      "cell_type": "code",
      "execution_count": null,
      "metadata": {
        "colab": {
          "base_uri": "https://localhost:8080/"
        },
        "id": "b81gnb6tjyvu",
        "outputId": "af63a256-8eb1-4e38-9cd8-70d9a5d84261"
      },
      "outputs": [
        {
          "name": "stdout",
          "output_type": "stream",
          "text": [
            "entre the temperature in celsius:20\n",
            "20.0degree C is equal to 68.0degree F\n"
          ]
        }
      ],
      "source": [
        "def celsius_to_fahrenheit(celsius):\n",
        "    fahrenheit_temp=(celsius *9/5)+32\n",
        "    return fahrenheit_temp\n",
        "celsius_temp=float(input(\"entre the temperature in celsius:\"))\n",
        "fahrenheit_temp=celsius_to_fahrenheit(celsius_temp)\n",
        "print(f\"{celsius_temp}degree C is equal to {fahrenheit_temp}degree F\")"
      ]
    },
    {
      "cell_type": "code",
      "execution_count": null,
      "metadata": {
        "colab": {
          "base_uri": "https://localhost:8080/"
        },
        "id": "GTpW32RrE8So",
        "outputId": "7441907e-e3f0-486e-9ed2-e844ee912830"
      },
      "outputs": [
        {
          "name": "stdout",
          "output_type": "stream",
          "text": [
            "enter the temperature in celsius:20\n",
            "20.0degree C is equal to 68.0degree F\n"
          ]
        }
      ],
      "source": [
        "def celsius_to_fahrenheit(celsius):\n",
        "    fahrenheit_temp=(celsius*9/5)+32\n",
        "    return fahrenheit_temp\n",
        "celsius_temp=float(input(\"enter the temperature in celsius:\"))\n",
        "fahrenheit_temp=celsius_to_fahrenheit(celsius_temp)\n",
        "print(f\"{celsius_temp}degree C is equal to {fahrenheit_temp}degree F\")"
      ]
    },
    {
      "cell_type": "code",
      "execution_count": null,
      "metadata": {
        "colab": {
          "base_uri": "https://localhost:8080/"
        },
        "id": "fC8SeIZ8o6hr",
        "outputId": "4cb74695-e5e1-40cf-f9ee-1cbd5ac047e6"
      },
      "outputs": [
        {
          "name": "stdout",
          "output_type": "stream",
          "text": [
            "enter the temperature in fahrenheit:60\n",
            "60.0degree f is equal to15.555555555555555degree c\n"
          ]
        }
      ],
      "source": [
        "def fahrenheit_to_celsius(fahrenheit):\n",
        "    celsius_temp=(fahrenheit-32)*5/9\n",
        "    return celsius_temp\n",
        "fahrenheit_temp=float(input(\"enter the temperature in fahrenheit:\"))\n",
        "celsius_temp=fahrenheit_to_celsius(fahrenheit_temp)\n",
        "print(f\"{fahrenheit_temp}degree f is equal to{celsius_temp}degree c\")"
      ]
    },
    {
      "cell_type": "code",
      "execution_count": null,
      "metadata": {
        "colab": {
          "base_uri": "https://localhost:8080/"
        },
        "id": "2rHKuIOiGETf",
        "outputId": "64f65338-e687-4394-d60b-c3958e388a28"
      },
      "outputs": [
        {
          "name": "stdout",
          "output_type": "stream",
          "text": [
            "enter the temperature in fahrenheit :50\n",
            "50.0degree F is equal to 20.0degree C\n"
          ]
        }
      ],
      "source": [
        "def fahrenheit_to_celsius(fahrenheit):\n",
        "  celsius_temp=(fahrenheit-32)*5/9\n",
        "  return celsius_temp\n",
        "fahrenheit_temp=float(input(\"enter the temperature in fahrenheit :\"))\n",
        "celcis_temp=fahrenheit_to_celsius(fahrenheit_temp)\n",
        "print(f\"{fahrenheit_temp}degree F is equal to {celsius_temp}degree C\")"
      ]
    },
    {
      "cell_type": "code",
      "execution_count": null,
      "metadata": {
        "colab": {
          "base_uri": "https://localhost:8080/"
        },
        "id": "eqjWR51Js4qO",
        "outputId": "ecbb2ed1-030e-4edd-cf1e-781a336c0f02"
      },
      "outputs": [
        {
          "name": "stdout",
          "output_type": "stream",
          "text": [
            "Enter temperature in Fahrenheit: 50\n",
            "50.0degree f is equal to 10.0\n"
          ]
        }
      ],
      "source": [
        "def fahrenheit_to_celsius(fahrenheit):\n",
        "    celsius = (fahrenheit - 32) * 5/9\n",
        "    return celsius\n",
        "\n",
        "# Example usage\n",
        "fahrenheit_temp = float(input(\"Enter temperature in Fahrenheit: \"))\n",
        "celsius_temp = fahrenheit_to_celsius(fahrenheit_temp)\n",
        "print(f\"{fahrenheit_temp}degree f is equal to {celsius_temp}\")"
      ]
    },
    {
      "cell_type": "code",
      "execution_count": null,
      "metadata": {
        "colab": {
          "base_uri": "https://localhost:8080/"
        },
        "id": "9FaTo6hi16gx",
        "outputId": "f9f94876-ce84-4210-c541-5f3ff444c802"
      },
      "outputs": [
        {
          "name": "stdout",
          "output_type": "stream",
          "text": [
            "1\n",
            "2\n",
            "3\n",
            "4\n",
            "5\n"
          ]
        }
      ],
      "source": [
        "for i in range(1,6):\n",
        "  print(i)"
      ]
    },
    {
      "cell_type": "code",
      "execution_count": null,
      "metadata": {
        "colab": {
          "base_uri": "https://localhost:8080/"
        },
        "id": "aHEYEJPt2CAU",
        "outputId": "efe23636-008c-4df0-f47d-1be7ffa1029a"
      },
      "outputs": [
        {
          "name": "stdout",
          "output_type": "stream",
          "text": [
            "*\n",
            "**\n",
            "***\n",
            "****\n",
            "*****\n"
          ]
        }
      ],
      "source": [
        "#1\n",
        "for i in range(1,6):\n",
        "  print(i*\"*\")"
      ]
    },
    {
      "cell_type": "code",
      "execution_count": null,
      "metadata": {
        "colab": {
          "base_uri": "https://localhost:8080/"
        },
        "id": "lmBvwMZ93YqX",
        "outputId": "5875a60e-ea6e-48db-a7a1-9948593d8a44"
      },
      "outputs": [
        {
          "name": "stdout",
          "output_type": "stream",
          "text": [
            "1 \n",
            "1 2 \n",
            "1 2 3 \n",
            "1 2 3 4 \n",
            "1 2 3 4 5 \n"
          ]
        }
      ],
      "source": [
        "#2 program to print pattern using nested loop\n",
        "for i in range(1,6):\n",
        "  for j in range(1,i+1):\n",
        "    print(j,end=\" \")\n",
        "  print()"
      ]
    },
    {
      "cell_type": "code",
      "execution_count": null,
      "metadata": {
        "colab": {
          "base_uri": "https://localhost:8080/"
        },
        "id": "aZBEjwS8CxFR",
        "outputId": "87ea0b81-4800-4804-e57a-c7465b438424"
      },
      "outputs": [
        {
          "name": "stdout",
          "output_type": "stream",
          "text": [
            "1 \n",
            "2 2 \n",
            "3 3 3 \n",
            "4 4 4 4 \n",
            "5 5 5 5 5 \n"
          ]
        }
      ],
      "source": [
        "for i in range(1,6):\n",
        "  for j in range(1,i+1):\n",
        "    print(i,end=\" \")\n",
        "  print()"
      ]
    },
    {
      "cell_type": "code",
      "execution_count": null,
      "metadata": {
        "colab": {
          "base_uri": "https://localhost:8080/"
        },
        "id": "PsqYPguZ4KO0",
        "outputId": "4a6bb3d6-5b80-4341-a491-11ef252495ce"
      },
      "outputs": [
        {
          "name": "stdout",
          "output_type": "stream",
          "text": [
            "1 \n",
            "2 2 \n",
            "3 3 3 \n",
            "4 4 4 4 \n",
            "5 5 5 5 5 \n"
          ]
        }
      ],
      "source": [
        "\n",
        "for i in range(1,6):\n",
        "  for j in range(1,i+1):\n",
        "    print(i,end=\" \")\n",
        "  print()"
      ]
    },
    {
      "cell_type": "code",
      "execution_count": null,
      "metadata": {
        "colab": {
          "base_uri": "https://localhost:8080/"
        },
        "id": "wbqfybir49-m",
        "outputId": "ae8ded4a-7358-474e-8dfb-ca294c7691da"
      },
      "outputs": [
        {
          "name": "stdout",
          "output_type": "stream",
          "text": [
            "*  \n",
            "*  *  \n",
            "*  *  *  \n",
            "*  *  *  *  \n",
            "*  *  *  *  *  \n"
          ]
        }
      ],
      "source": [
        "#3to print pattern that mirrors a right-angled triangle(e.g., with space on left)using *\n",
        "\n",
        "for i in range(1,6):\n",
        "  for j in range(1,i+1):\n",
        "    print(\"* \",end=\" \")\n",
        "  print()\n"
      ]
    },
    {
      "cell_type": "code",
      "execution_count": null,
      "metadata": {
        "colab": {
          "base_uri": "https://localhost:8080/"
        },
        "id": "fByKLghSDROC",
        "outputId": "6db11674-9e94-417b-a1e8-e8be711bdd54"
      },
      "outputs": [
        {
          "name": "stdout",
          "output_type": "stream",
          "text": [
            "* \n",
            "* * \n",
            "* * * \n",
            "* * * * \n",
            "* * * * * \n"
          ]
        }
      ],
      "source": [
        "for i in range(1,6):\n",
        "  for j in range(1,i+1):\n",
        "    print(\"*\",end=\" \")\n",
        "  print()"
      ]
    },
    {
      "cell_type": "code",
      "execution_count": null,
      "metadata": {
        "colab": {
          "base_uri": "https://localhost:8080/"
        },
        "id": "oc4nQ69c5R-z",
        "outputId": "b6e08b6d-4ae7-4e14-fcf8-a25efbbeef2f"
      },
      "outputs": [
        {
          "name": "stdout",
          "output_type": "stream",
          "text": [
            "*  \n",
            "*  *  \n",
            "*  *  *  \n",
            "*  *  *  *  \n"
          ]
        }
      ],
      "source": [
        "#4Write a program to print a pyramid pattern of stars\n",
        "for i in range(1,5):\n",
        "  for j in range(1,i+1):\n",
        "    print(\"* \",end=\" \")\n",
        "  print()\n",
        "\n"
      ]
    },
    {
      "cell_type": "code",
      "execution_count": null,
      "metadata": {
        "colab": {
          "base_uri": "https://localhost:8080/"
        },
        "id": "2tR-0yhb6x9F",
        "outputId": "07899218-2445-4f63-d72b-f2eee28efc46"
      },
      "outputs": [
        {
          "name": "stdout",
          "output_type": "stream",
          "text": [
            "         *   \n",
            "       *   *   \n",
            "     *   *   *   \n",
            "   *   *   *   *   \n",
            " *   *   *   *   *   \n",
            "   *   *   *   *   \n",
            "     *   *   \n",
            "       *   \n",
            "         *   \n",
            "           \n"
          ]
        }
      ],
      "source": [
        "#5 Create a diamond shape pattern using *:\n",
        "for i in range(5,0,-1):\n",
        "  for k in range(1,i):\n",
        "    print(\" \",end=\" \")\n",
        "  for j in range(5,i-1,-1):\n",
        "    print(\" * \",end=\" \")\n",
        "  print(\" \")\n",
        "for i in range(1,6):\n",
        "  for k in range(0,i):\n",
        "    print(\" \",end=\" \")\n",
        "  for j in range(5,i,-i):\n",
        "    print(\" * \",end=\" \")\n",
        "  print(\" \")\n"
      ]
    },
    {
      "cell_type": "code",
      "execution_count": null,
      "metadata": {
        "colab": {
          "base_uri": "https://localhost:8080/"
        },
        "id": "xrLwGHnw9w36",
        "outputId": "9c3ae5b2-7765-40e4-ec10-20b180aa3ecf"
      },
      "outputs": [
        {
          "name": "stdout",
          "output_type": "stream",
          "text": [
            "    *\n",
            "   ***\n",
            "  *****\n",
            " *******\n",
            "*********\n",
            " *******\n",
            "  *****\n",
            "   ***\n",
            "    *\n"
          ]
        }
      ],
      "source": [
        "def print_diamond(n):\n",
        "\n",
        "    for i in range(n):\n",
        "        for j in range(n - i - 1):\n",
        "            print(\" \", end=\"\")\n",
        "        for j in range(2 * i + 1):\n",
        "            print(\"*\", end=\"\")\n",
        "        print()\n",
        "\n",
        "\n",
        "    for i in range(n - 2, -1, -1):\n",
        "        for j in range(n - i - 1):\n",
        "            print(\" \", end=\"\")\n",
        "        for j in range(2 * i + 1):\n",
        "            print(\"*\", end=\"\")\n",
        "        print()\n",
        "\n",
        "\n",
        "n = 5\n",
        "print_diamond(n)\n"
      ]
    },
    {
      "cell_type": "code",
      "execution_count": null,
      "metadata": {
        "colab": {
          "base_uri": "https://localhost:8080/"
        },
        "id": "IBdbtF0k-xyn",
        "outputId": "5c5972e0-319e-454f-b1e7-8ebd9b66f545"
      },
      "outputs": [
        {
          "name": "stdout",
          "output_type": "stream",
          "text": [
            "1\n",
            "2\n",
            "3\n",
            "4\n",
            "6\n",
            "7\n",
            "8\n",
            "9\n",
            "10\n"
          ]
        }
      ],
      "source": [
        "#6 Write a program to print numbers from 1 to 10 but skip printing\n",
        "for i in range(1,11):\n",
        "  if i==5:\n",
        "    continue\n",
        "  print(i)"
      ]
    },
    {
      "cell_type": "code",
      "execution_count": null,
      "metadata": {
        "colab": {
          "base_uri": "https://localhost:8080/"
        },
        "id": "cTUgwpbGHOeH",
        "outputId": "f615e1c1-e2db-405e-d583-b64c15d314a8"
      },
      "outputs": [
        {
          "name": "stdout",
          "output_type": "stream",
          "text": [
            "1\n",
            "3\n",
            "5\n",
            "7\n",
            "9\n"
          ]
        }
      ],
      "source": [
        "for i in range(1,11):\n",
        "  if i%2==0:\n",
        "    continue\n",
        "  print(i)"
      ]
    },
    {
      "cell_type": "code",
      "execution_count": null,
      "metadata": {
        "colab": {
          "base_uri": "https://localhost:8080/"
        },
        "id": "AAyGJrKUHu3R",
        "outputId": "6632892f-180b-4c72-eab0-7b0f63434330"
      },
      "outputs": [
        {
          "name": "stdout",
          "output_type": "stream",
          "text": [
            "1\n",
            "2\n",
            "3\n",
            "4\n",
            "5\n",
            "6\n",
            "7\n",
            "8\n"
          ]
        }
      ],
      "source": [
        "for i in range(1,11):\n",
        "  if i%9==0:\n",
        "    break\n",
        "  print(i)"
      ]
    },
    {
      "cell_type": "code",
      "execution_count": null,
      "metadata": {
        "colab": {
          "base_uri": "https://localhost:8080/"
        },
        "id": "NDBrgr6h_YpK",
        "outputId": "90954589-ecdf-4a42-cdb6-d44914883610"
      },
      "outputs": [
        {
          "name": "stdout",
          "output_type": "stream",
          "text": [
            "1\n",
            "2\n",
            "3\n"
          ]
        }
      ],
      "source": [
        "#7 Create a program that prints numbers from 1 to 10 but stops if it encounters a number divisible by 4 using break.\n",
        "for i in range(1,11):\n",
        "  if i%4==0:\n",
        "    break\n",
        "  print(i)"
      ]
    },
    {
      "cell_type": "code",
      "execution_count": null,
      "metadata": {
        "colab": {
          "base_uri": "https://localhost:8080/"
        },
        "id": "pWW0qyQi_wQe",
        "outputId": "156ba8bb-b9cd-4c19-99cb-f6b400a8b1ed"
      },
      "outputs": [
        {
          "name": "stdout",
          "output_type": "stream",
          "text": [
            "Enter something (type 'exit' to quit): 34\n",
            "You entered: 34\n",
            "Enter something (type 'exit' to quit): 453\n",
            "You entered: 453\n",
            "Enter something (type 'exit' to quit): exit\n",
            "Exiting the program.\n"
          ]
        }
      ],
      "source": [
        "#8 Write a program that takes user input continuously until the user enters exit using a while loop and break statement.\n",
        "\n",
        "while True:\n",
        "    x = input(\"Enter something (type 'exit' to quit): \")\n",
        "    if x.lower() == \"exit\":\n",
        "        print(\"Exiting the program.\")\n",
        "        break\n",
        "    else:\n",
        "        print(f\"You entered: {x}\")\n",
        "\n",
        "\n",
        "\n"
      ]
    },
    {
      "cell_type": "code",
      "execution_count": null,
      "metadata": {
        "colab": {
          "base_uri": "https://localhost:8080/"
        },
        "id": "w3GEivtdAPcK",
        "outputId": "0c0125e4-8a62-4b39-9717-f349e5799b34"
      },
      "outputs": [
        {
          "name": "stdout",
          "output_type": "stream",
          "text": [
            "2\n",
            "4\n",
            "6\n",
            "8\n",
            "10\n",
            "12\n"
          ]
        }
      ],
      "source": [
        "#9 Using a for loop, print all even numbers between 1 and 20, but stop if the number is greater than 12 using break.\n",
        "for number in range(1, 21):\n",
        "    if number % 2 == 0:\n",
        "        if number > 12:\n",
        "            break\n",
        "        print(number)\n"
      ]
    },
    {
      "cell_type": "code",
      "execution_count": null,
      "metadata": {
        "colab": {
          "base_uri": "https://localhost:8080/"
        },
        "id": "Z2zgK9xLYBnM",
        "outputId": "f825df04-89e6-4e65-a2a9-a01a362cd8f3"
      },
      "outputs": [
        {
          "name": "stdout",
          "output_type": "stream",
          "text": [
            "2\n",
            "4\n",
            "6\n",
            "8\n",
            "10\n",
            "12\n",
            "14\n",
            "16\n",
            "18\n"
          ]
        }
      ],
      "source": [
        "for number in range(1,21):\n",
        "  if number %2==0:\n",
        "    if number>18:\n",
        "      break\n",
        "    print(number)"
      ]
    },
    {
      "cell_type": "code",
      "execution_count": null,
      "metadata": {
        "colab": {
          "base_uri": "https://localhost:8080/"
        },
        "id": "_hxQC4RJCKfV",
        "outputId": "be17778a-ab3c-43df-b0a8-028b310e79bc"
      },
      "outputs": [
        {
          "name": "stdout",
          "output_type": "stream",
          "text": [
            "Enter a number (negative to stop): 65\n",
            "Enter a number (negative to stop): 7\n",
            "Enter a number (negative to stop): -87\n",
            "The sum of positive numbers entered is: 72\n"
          ]
        }
      ],
      "source": [
        "#10 Write a program that prompts the user for numbers until they enter a negative number, then prints the sum of all entered positive numbers. Use continue to skip negative numbers in the summation.\n",
        "total = 0\n",
        "\n",
        "while True:\n",
        "    number = int(input(\"Enter a number (negative to stop): \"))\n",
        "\n",
        "    if number < 0:\n",
        "        break\n",
        "\n",
        "    if number == 0:\n",
        "        continue\n",
        "    total += number\n",
        "\n",
        "print(\"The sum of positive numbers entered is:\", total)\n"
      ]
    },
    {
      "cell_type": "code",
      "execution_count": null,
      "metadata": {
        "colab": {
          "base_uri": "https://localhost:8080/"
        },
        "id": "kaxKk7ZkZobn",
        "outputId": "eb16eac9-204f-4fb8-b1e1-25e1cb8f95d1"
      },
      "outputs": [
        {
          "name": "stdout",
          "output_type": "stream",
          "text": [
            "enter a number(negative to stop):3\n",
            "enter a number(negative to stop):4\n",
            "enter a number(negative to stop):5\n",
            "enter a number(negative to stop):-3\n",
            "the sum of positive numbers entered is: 12\n"
          ]
        }
      ],
      "source": [
        "total=0\n",
        "while True:\n",
        "  number=int(input(\"enter a number(negative to stop):\"))\n",
        "  if number<0:\n",
        "    break\n",
        "  if number==0:\n",
        "    continue\n",
        "  total+=number\n",
        "print(\"the sum of positive numbers entered is:\",total)"
      ]
    },
    {
      "cell_type": "code",
      "execution_count": null,
      "metadata": {
        "colab": {
          "base_uri": "https://localhost:8080/"
        },
        "id": "yuAwvGPcCx81",
        "outputId": "5fca53f2-dfd5-411d-9e9e-8b374e315d79"
      },
      "outputs": [
        {
          "name": "stdout",
          "output_type": "stream",
          "text": [
            "Simple Voting System\n",
            "Vote for your favorite candidate:\n",
            "Enter 'A' for Candidate A, 'B' for Candidate B, 'C' for Candidate C\n",
            "Enter 'end' to finish voting and see the results.\n",
            "\n",
            "Cast your vote (A, B, C, or 'end' to finish): A\n",
            "Cast your vote (A, B, C, or 'end' to finish): B\n",
            "Cast your vote (A, B, C, or 'end' to finish): C\n",
            "Cast your vote (A, B, C, or 'end' to finish): A\n",
            "Cast your vote (A, B, C, or 'end' to finish): end\n",
            "\n",
            "Voting Results:\n",
            "Candidate A: 2 votes\n",
            "Candidate B: 1 votes\n",
            "Candidate C: 1 votes\n",
            "Winner: Candidate A\n"
          ]
        }
      ],
      "source": [
        "\n",
        "#11 Write a program for a simple voting system. Allow the user to vote for Candidate A, Candidate B, or Candidate C. Display the winner based on the user's choice.\n",
        "\n",
        "candidate_a = 0\n",
        "candidate_b = 0\n",
        "candidate_c = 0\n",
        "\n",
        "print(\"Simple Voting System\")\n",
        "print(\"Vote for your favorite candidate:\")\n",
        "print(\"Enter 'A' for Candidate A, 'B' for Candidate B, 'C' for Candidate C\")\n",
        "print(\"Enter 'end' to finish voting and see the results.\\n\")\n",
        "\n",
        "while True:\n",
        "\n",
        "    candidate = input(\"Cast your vote (A, B, C, or 'end' to finish): \").strip().upper()\n",
        "\n",
        "    if candidate == 'END':\n",
        "        break\n",
        "    elif candidate == 'A':\n",
        "        candidate_a += 1\n",
        "    elif candidate == 'B':\n",
        "        candidate_b += 1\n",
        "    elif candidate == 'C':\n",
        "        candidate_c += 1\n",
        "    else:\n",
        "        print(\"Invalid input. Please enter A, B, C, or 'end'.\")\n",
        "\n",
        "# Display the results\n",
        "print(\"\\nVoting Results:\")\n",
        "print(f\"Candidate A: {candidate_a} votes\")\n",
        "print(f\"Candidate B: {candidate_b} votes\")\n",
        "print(f\"Candidate C: {candidate_c} votes\")\n",
        "\n",
        "# Determine the winner\n",
        "if candidate_a > candidate_b and candidate_a > candidate_c:\n",
        "    print(\"Winner: Candidate A\")\n",
        "elif candidate_b > candidate_a and candidate_b > candidate_c:\n",
        "    print(\"Winner: Candidate B\")\n",
        "elif candidate_c > candidate_a and candidate_c > candidate_b:\n",
        "    print(\"Winner: Candidate C\")\n",
        "else:\n",
        "    print(\"It's a tie!\")\n",
        "\n",
        "\n",
        "\n",
        "\n",
        "\n",
        "\n",
        "\n"
      ]
    },
    {
      "cell_type": "code",
      "execution_count": null,
      "metadata": {
        "colab": {
          "background_save": true
        },
        "id": "UkQvNiHUa_Nz",
        "outputId": "981923a3-08f0-4e84-c05d-abbe07acfadf"
      },
      "outputs": [
        {
          "ename": "NameError",
          "evalue": "name 'candidate_a' is not defined",
          "output_type": "error",
          "traceback": [
            "\u001b[0;31m---------------------------------------------------------------------------\u001b[0m",
            "\u001b[0;31mNameError\u001b[0m                                 Traceback (most recent call last)",
            "\u001b[0;32m<ipython-input-5-6b03a2fbeecf>\u001b[0m in \u001b[0;36m<cell line: 1>\u001b[0;34m()\u001b[0m\n\u001b[0;32m----> 1\u001b[0;31m \u001b[0mcandidate_a\u001b[0m\u001b[0;34m==\u001b[0m\u001b[0;36m0\u001b[0m\u001b[0;34m\u001b[0m\u001b[0;34m\u001b[0m\u001b[0m\n\u001b[0m\u001b[1;32m      2\u001b[0m \u001b[0mcandidate_b\u001b[0m\u001b[0;34m=\u001b[0m\u001b[0;36m0\u001b[0m\u001b[0;34m\u001b[0m\u001b[0;34m\u001b[0m\u001b[0m\n\u001b[1;32m      3\u001b[0m \u001b[0mcandidate_c\u001b[0m\u001b[0;34m=\u001b[0m\u001b[0;36m0\u001b[0m\u001b[0;34m\u001b[0m\u001b[0;34m\u001b[0m\u001b[0m\n\u001b[1;32m      4\u001b[0m \u001b[0;34m\u001b[0m\u001b[0m\n\u001b[1;32m      5\u001b[0m \u001b[0mprint\u001b[0m\u001b[0;34m(\u001b[0m\u001b[0;34m\"simple voting system.\"\u001b[0m\u001b[0;34m)\u001b[0m\u001b[0;34m\u001b[0m\u001b[0;34m\u001b[0m\u001b[0m\n",
            "\u001b[0;31mNameError\u001b[0m: name 'candidate_a' is not defined"
          ]
        }
      ],
      "source": [
        "candidate_a==0\n",
        "candidate_b=0\n",
        "candidate_c=0\n",
        "\n",
        "print(\"simple voting system.\")\n",
        "print(\"vote to your favaroite candidate\")\n",
        "print(\"enter 'A' for candidate A,'B' for candidate B, 'C' for candidate C\")\n",
        "print(\"use 'end' to finish voting and see the results.\\n\")\n",
        "\n",
        "while True:\n",
        "  candidate=input(\"cast your vote(A,B,C or 'end' to finish)\").strip().upper()\n",
        "  if candidate=='END':\n",
        "    break\n",
        "  elif candidate=='A':\n",
        "    candidate_a+=1\n",
        "  elif candidate=='B':\n",
        "    candidate_b+=1\n",
        "  elif candidate=='C':\n",
        "    candidate_c+=1\n",
        "  else:\n",
        "    print(\"invalid input.please enter A,B,C or 'end'.\")\n",
        "\n",
        "print(\"nVoting Results:\")\n",
        "print(f\"Candidate A:{candidate_a} votes\")\n",
        "print(f\"candidate B:{candidate_b} votes\")\n",
        "print(f\"candidate C:{candidate_c} votes\")\n",
        "\n",
        "if candidate_a>candidate_b and candidate_a>candidate_c:\n",
        "  print(\"Winner: Candidate A\")\n",
        "elif candidate_b>candidate_a and candidate_b>candidate_c:\n",
        "  print(\"Winner: Candidate B\")\n",
        "elif candidate_c>candidate_a and candidate_c>candidate_b:\n",
        "  print(\"Winner:candidate C\")\n",
        "else:\n",
        "  print(\"its tie!\")\n"
      ]
    },
    {
      "cell_type": "code",
      "execution_count": null,
      "metadata": {
        "colab": {
          "base_uri": "https://localhost:8080/"
        },
        "id": "2Xskqdm4ENhh",
        "outputId": "00b47190-265b-4ed6-ec24-0799b8920522"
      },
      "outputs": [
        {
          "name": "stdout",
          "output_type": "stream",
          "text": [
            "Voting System\n",
            "Type 'stop' to end voting.\n",
            "\n",
            "Enter the candidate's name (or type 'stop' to finish): utkarsha\n",
            "Enter the candidate's name (or type 'stop' to finish): vinod\n",
            "Enter the candidate's name (or type 'stop' to finish): utkarsha\n",
            "Enter the candidate's name (or type 'stop' to finish): utkarsha\n",
            "Enter the candidate's name (or type 'stop' to finish): vinod\n",
            "Enter the candidate's name (or type 'stop' to finish): stop\n",
            "\n",
            "Voting Results:\n",
            "utkarsha: 3 votes\n",
            "vinod: 2 votes\n"
          ]
        }
      ],
      "source": [
        "#12 Extend the voting system program to accept multiple votes and count how many votes each candidate received. Stop accepting votes when the user types stop.\n",
        "\n",
        "votes = {}\n",
        "\n",
        "print(\"Voting System\")\n",
        "print(\"Type 'stop' to end voting.\\n\")\n",
        "\n",
        "while True:\n",
        "    candidate = input(\"Enter the candidate's name (or type 'stop' to finish): \").strip()\n",
        "\n",
        "\n",
        "    if candidate.lower() == \"stop\":\n",
        "        break\n",
        "\n",
        "\n",
        "    if candidate in votes:\n",
        "        votes[candidate] += 1\n",
        "    else:\n",
        "        votes[candidate] = 1\n",
        "\n",
        "print(\"\\nVoting Results:\")\n",
        "for candidate, count in votes.items():\n",
        "\n",
        "    print(f\"{candidate}: {count} votes\")\n"
      ]
    },
    {
      "cell_type": "code",
      "execution_count": null,
      "metadata": {
        "colab": {
          "base_uri": "https://localhost:8080/"
        },
        "id": "6gEc3HPNIM9u",
        "outputId": "5247c001-6fd9-4f32-dc6d-381f0b8ba359"
      },
      "outputs": [
        {
          "name": "stdout",
          "output_type": "stream",
          "text": [
            "Enter your vote (A, B, or C): A\n",
            "Valid vote recorded.\n"
          ]
        }
      ],
      "source": [
        "#13 Write a Python program to check if the user's vote is valid (either A, B, or C). If not, ask for input again using a while loop.\n",
        "while True:\n",
        "    vote = input(\"Enter your vote (A, B, or C): \").upper()\n",
        "    if vote in (\"A\", \"B\", \"C\"):\n",
        "        print(\"Valid vote recorded.\")\n",
        "        break\n",
        "    else:\n",
        "        print(\"Invalid vote. Please enter A, B, or C.\")\n",
        "\n",
        "\n",
        "\n",
        "\n",
        "\n",
        "\n",
        "\n"
      ]
    },
    {
      "cell_type": "code",
      "execution_count": null,
      "metadata": {
        "colab": {
          "base_uri": "https://localhost:8080/"
        },
        "id": "yZPtrlG-JPPL",
        "outputId": "1ce59f6c-3acd-485b-9e0d-58a09b62848d"
      },
      "outputs": [
        {
          "name": "stdout",
          "output_type": "stream",
          "text": [
            "Vote cast for A\n",
            "Vote cast for B\n",
            "Vote cast for B\n",
            "Vote cast for A\n",
            "Candidate A: 2 votes\n",
            "Candidate B: 2 votes\n"
          ]
        }
      ],
      "source": [
        "#14 Modify the election voting program to handle case sensitivity, so votes like a, A, b, B are treated the same.\n",
        "# Sample dictionary to count votes for each candidate\n",
        "votes = {\"a\": 0, \"b\": 0}\n",
        "\n",
        "def cast_vote(vote):\n",
        "    vote = vote.lower()\n",
        "    if vote in votes:\n",
        "        votes[vote] += 1\n",
        "        print(f\"Vote cast for {vote.upper()}\")\n",
        "    else:\n",
        "        print(\"Invalid vote.\")\n",
        "\n",
        "\n",
        "def display_results():\n",
        "    for candidate, count in votes.items():\n",
        "        print(f\"Candidate {candidate.upper()}: {count} votes\")\n",
        "\n",
        "# Example usage\n",
        "cast_vote(\"A\")  # Case-insensitive\n",
        "cast_vote(\"b\")\n",
        "cast_vote(\"B\")\n",
        "cast_vote(\"a\")\n",
        "\n",
        "display_results()\n",
        "\n"
      ]
    },
    {
      "cell_type": "code",
      "execution_count": null,
      "metadata": {
        "colab": {
          "base_uri": "https://localhost:8080/"
        },
        "id": "XOrvvav7KwTB",
        "outputId": "10c691c4-8781-4ac3-ff66-e88834b04a2b"
      },
      "outputs": [
        {
          "name": "stdout",
          "output_type": "stream",
          "text": [
            "Voting System\n",
            "Type 'stop' to end voting.\n",
            "\n",
            "Enter the candidate's name (or type 'stop' to finish): utkarsha\n",
            "Enter the candidate's name (or type 'stop' to finish): vinod\n",
            "Enter the candidate's name (or type 'stop' to finish): utkarsha\n",
            "Enter the candidate's name (or type 'stop' to finish): utkarsha\n",
            "Enter the candidate's name (or type 'stop' to finish): stop\n",
            "Not enough votes to determine a winner.\n"
          ]
        }
      ],
      "source": [
        "#15Write a voting system program that announces a winner only if there are more than 5 votes, otherwise, it displays \"Not enough votes\"\n",
        "def voting_system():\n",
        "    votes = {}\n",
        "    print(\"Voting System\")\n",
        "    print(\"Type 'stop' to end voting.\\n\")\n",
        "\n",
        "    while True:\n",
        "        candidate = input(\"Enter the candidate's name (or type 'stop' to finish): \").strip()\n",
        "\n",
        "        if candidate.lower() == \"stop\":\n",
        "            break\n",
        "\n",
        "        if candidate in votes:\n",
        "            votes[candidate] += 1\n",
        "        else:\n",
        "            votes[candidate] = 1\n",
        "\n",
        "    total_votes = sum(votes.values())\n",
        "\n",
        "    if total_votes > 5:\n",
        "        print(\"\\nVoting Results:\")\n",
        "        for candidate, count in votes.items():\n",
        "            print(f\"{candidate}: {count} votes\")\n",
        "\n",
        "        winner = max(votes, key=votes.get)\n",
        "        print(f\"\\nWinner: {winner}\")\n",
        "    else:\n",
        "        print(\"Not enough votes to determine a winner.\")\n",
        "\n",
        "# Run the voting system\n",
        "voting_system()"
      ]
    },
    {
      "cell_type": "code",
      "execution_count": null,
      "metadata": {
        "colab": {
          "base_uri": "https://localhost:8080/"
        },
        "id": "HYAk2B_iMyzM",
        "outputId": "81e391c2-4b40-4d3e-d809-2536119d75ea"
      },
      "outputs": [
        {
          "name": "stdout",
          "output_type": "stream",
          "text": [
            "Enter a number: 34\n",
            "34 is not a prime number.\n"
          ]
        }
      ],
      "source": [
        "#16. Write a program that accepts a number from the user and prints if it's prime or not. Use break if you find a factor other than 1 and the number itself.\n",
        "def is_prime(number):\n",
        "  if number <= 1:\n",
        "    return False #it's not prime\n",
        "\n",
        "  for i in range(2, int(number**0.5) + 1):\n",
        "    if number % i == 0:\n",
        "      return False\n",
        "      break       # Exit\n",
        "\n",
        "  return True  # it's prime\n",
        "number = int(input(\"Enter a number: \"))\n",
        "\n",
        "# Check if the number is prime and print the result\n",
        "if is_prime(number):\n",
        "  print(f\"{number} is a prime number.\")\n",
        "else:\n",
        "  print(f\"{number} is not a prime number.\")"
      ]
    },
    {
      "cell_type": "code",
      "execution_count": null,
      "metadata": {
        "colab": {
          "base_uri": "https://localhost:8080/"
        },
        "id": "Nr6FnGo2OQmO",
        "outputId": "3ee36c5e-0c94-4509-dfa0-b1003ea9dd3c"
      },
      "outputs": [
        {
          "name": "stdout",
          "output_type": "stream",
          "text": [
            "Enter a string: utkarsha\n",
            "Number of vowels: 3\n"
          ]
        }
      ],
      "source": [
        "#17 Create a program that uses a for loop to count the number of vowels in a given string. Use continue to skip consonants.\n",
        "def count_vowels(input_string):\n",
        "    vowels = \"aeiouAEIOU\"\n",
        "    count = 0\n",
        "\n",
        "    for char in input_string:\n",
        "        if char not in vowels:\n",
        "            continue  # Skip consonants and other characters\n",
        "        count += 1  # Count vowels\n",
        "\n",
        "    return count\n",
        "\n",
        "# Example usage\n",
        "text = input(\"Enter a string: \")\n",
        "print(\"Number of vowels:\", count_vowels(text))\n"
      ]
    },
    {
      "cell_type": "code",
      "execution_count": null,
      "metadata": {
        "colab": {
          "base_uri": "https://localhost:8080/"
        },
        "id": "W0YZTvxKQgkI",
        "outputId": "cd21f7a0-f20e-42dc-cb6b-cbaff7401c11"
      },
      "outputs": [
        {
          "name": "stdout",
          "output_type": "stream",
          "text": [
            "12\n",
            "15\n",
            "23\n"
          ]
        }
      ],
      "source": [
        "#18 Write a program that accepts a list of numbers and prints only the numbers greater than 10 using a loop with continue.\n",
        "\n",
        "numbers = [3, 12, 7, 15, 8, 23, 4]\n",
        "for num in numbers:\n",
        "    if num <= 10:\n",
        "        continue\n",
        "    print(num)\n"
      ]
    },
    {
      "cell_type": "code",
      "execution_count": null,
      "metadata": {
        "id": "fPBEgrIfJHHt"
      },
      "outputs": [],
      "source": [
        "num=[2,45,34,55,76,12]\n",
        "for i in num:\n",
        "  if i<=10:\n",
        "    continue\n",
        "  print(i)"
      ]
    },
    {
      "cell_type": "code",
      "execution_count": null,
      "metadata": {
        "colab": {
          "base_uri": "https://localhost:8080/"
        },
        "id": "ZXR77L0wQ663",
        "outputId": "51733dee-d29b-41ca-bb40-4de9f3f11dbf"
      },
      "outputs": [
        {
          "name": "stdout",
          "output_type": "stream",
          "text": [
            "Welcome to the Guessing Game!\n",
            "I'm thinking of a number between 1 and 20. You have 5 attempts to guess it.\n",
            "Attempt 1: Enter your guess: 6\n",
            "Too low! Try again.\n",
            "Attempt 2: Enter your guess: 5\n",
            "Too low! Try again.\n",
            "Attempt 3: Enter your guess: 3\n",
            "Too low! Try again.\n",
            "Attempt 4: Enter your guess: 5\n",
            "Too low! Try again.\n",
            "Attempt 5: Enter your guess: 8\n",
            "Too low! Try again.\n",
            "Sorry, you've used all your attempts. The correct number was 12.\n"
          ]
        }
      ],
      "source": [
        "#19 Create a guessing game where the user has to guess a random number between 1 and 20. Allow the user up to 5 attempts, and use break to exit the loop if they guess correctly.\n",
        "import random\n",
        "random_number = random.randint(1, 20)\n",
        "attempts = 5\n",
        "\n",
        "print(\"Welcome to the Guessing Game!\")\n",
        "print(\"I'm thinking of a number between 1 and 20. You have 5 attempts to guess it.\")\n",
        "\n",
        "for attempt in range(1, attempts + 1):\n",
        "    guess = int(input(f\"Attempt {attempt}: Enter your guess: \"))\n",
        "    if guess == random_number:\n",
        "        print(\"Congratulations! You guessed the correct number!\")\n",
        "        break\n",
        "    elif guess < random_number:\n",
        "        print(\"Too low! Try again.\")\n",
        "    else:\n",
        "        print(\"Too high! Try again.\")\n",
        "    if attempt == attempts:\n",
        "        print(f\"Sorry, you've used all your attempts. The correct number was {random_number}.\")\n"
      ]
    },
    {
      "cell_type": "code",
      "execution_count": null,
      "metadata": {
        "colab": {
          "base_uri": "https://localhost:8080/"
        },
        "id": "T8tppmj1RaY2",
        "outputId": "e1078467-6626-4271-8396-a6a610847b87"
      },
      "outputs": [
        {
          "name": "stdout",
          "output_type": "stream",
          "text": [
            "\n",
            "--- ATM Menu ---\n",
            "1. Check Balance\n",
            "2. Deposit Money\n",
            "3. Withdraw Money\n",
            "4. Exit\n",
            "Choose an option (1-4): 1\n",
            "Your current balance is: $0.00\n",
            "\n",
            "--- ATM Menu ---\n",
            "1. Check Balance\n",
            "2. Deposit Money\n",
            "3. Withdraw Money\n",
            "4. Exit\n",
            "Choose an option (1-4): 2\n",
            "Enter amount to deposit: $400000\n",
            "$400000.00 deposited successfully.\n",
            "\n",
            "--- ATM Menu ---\n",
            "1. Check Balance\n",
            "2. Deposit Money\n",
            "3. Withdraw Money\n",
            "4. Exit\n",
            "Choose an option (1-4): 1\n",
            "Your current balance is: $400000.00\n",
            "\n",
            "--- ATM Menu ---\n",
            "1. Check Balance\n",
            "2. Deposit Money\n",
            "3. Withdraw Money\n",
            "4. Exit\n",
            "Choose an option (1-4): 3\n",
            "Enter amount to withdraw: $2000\n",
            "$2000.00 withdrawn successfully.\n",
            "\n",
            "--- ATM Menu ---\n",
            "1. Check Balance\n",
            "2. Deposit Money\n",
            "3. Withdraw Money\n",
            "4. Exit\n",
            "Choose an option (1-4): 4\n",
            "Thank you for using the ATM. Goodbye!\n"
          ]
        }
      ],
      "source": [
        "#20 Write a Python program to simulate a basic ATM system where users can check balance, deposit money, and withdraw money. Use a loop to keep asking for an action until the user\n",
        "class ATM:\n",
        "    def __init__(self, balance=0):\n",
        "        self.balance = balance\n",
        "\n",
        "    def check_balance(self):\n",
        "        print(f\"Your current balance is: ${self.balance:.2f}\")\n",
        "\n",
        "    def deposit(self, amount):\n",
        "        if amount > 0:\n",
        "            self.balance += amount\n",
        "            print(f\"${amount:.2f} deposited successfully.\")\n",
        "        else:\n",
        "            print(\"Invalid deposit amount.\")\n",
        "\n",
        "    def withdraw(self, amount):\n",
        "        if amount > self.balance:\n",
        "            print(\"Insufficient balance.\")\n",
        "        elif amount <= 0:\n",
        "            print(\"Invalid withdrawal amount.\")\n",
        "        else:\n",
        "            self.balance -= amount\n",
        "            print(f\"${amount:.2f} withdrawn successfully.\")\n",
        "\n",
        "    def start(self):\n",
        "        while True:\n",
        "            print(\"\\n--- ATM Menu ---\")\n",
        "            print(\"1. Check Balance\")\n",
        "            print(\"2. Deposit Money\")\n",
        "            print(\"3. Withdraw Money\")\n",
        "            print(\"4. Exit\")\n",
        "\n",
        "            choice = input(\"Choose an option (1-4): \")\n",
        "\n",
        "            if choice == \"1\":\n",
        "                self.check_balance()\n",
        "            elif choice == \"2\":\n",
        "                amount = float(input(\"Enter amount to deposit: $\"))\n",
        "                self.deposit(amount)\n",
        "            elif choice == \"3\":\n",
        "                amount = float(input(\"Enter amount to withdraw: $\"))\n",
        "                self.withdraw(amount)\n",
        "            elif choice == \"4\":\n",
        "                print(\"Thank you for using the ATM. Goodbye!\")\n",
        "                break\n",
        "            else:\n",
        "                print(\"Invalid option. Please try again.\")\n",
        "\n",
        "\n",
        "atm = ATM()\n",
        "atm.start()\n",
        "\n",
        "\n",
        "\n",
        "\n"
      ]
    },
    {
      "cell_type": "code",
      "execution_count": null,
      "metadata": {
        "colab": {
          "base_uri": "https://localhost:8080/"
        },
        "id": "55Eb399NSooG",
        "outputId": "a78b3d90-93cd-4719-9212-1d2910e45ed3"
      },
      "outputs": [
        {
          "name": "stdout",
          "output_type": "stream",
          "text": [
            "[2, 4, 6, 8, 10]\n",
            "[1, 3, 5, 7, 9]\n"
          ]
        }
      ],
      "source": [
        "x=[1,2,3,4,5,6,7,8,9,10]\n",
        "even=[]\n",
        "odd=[]\n",
        "for i  in x:\n",
        "  if i%2==0:\n",
        "    even.append(i)\n",
        "  else:\n",
        "    odd.append(i)\n",
        "print(even)\n",
        "print(odd)"
      ]
    },
    {
      "cell_type": "code",
      "execution_count": null,
      "metadata": {
        "colab": {
          "base_uri": "https://localhost:8080/"
        },
        "id": "EKvVqH9-B9Xn",
        "outputId": "c2c9d7b9-aafa-4df5-9048-089a5800ac50"
      },
      "outputs": [
        {
          "name": "stdout",
          "output_type": "stream",
          "text": [
            "enter the number: 4\n",
            "4 number is not prime\n"
          ]
        }
      ],
      "source": [
        "#prime number\n",
        "num=int(input(\"enter the number: \"))\n",
        "if num>1:\n",
        "  for i in range(2,num):\n",
        "    if num%i==0:\n",
        "      print(num,\"number is not prime\")\n",
        "      break\n",
        "    else:\n",
        "      print(num,\"number is prime\")\n",
        "      break\n",
        "else:\n",
        "  print(num,\"number is not prime\")\n",
        "\n"
      ]
    },
    {
      "cell_type": "code",
      "execution_count": null,
      "metadata": {
        "colab": {
          "base_uri": "https://localhost:8080/"
        },
        "id": "3glIdBj9_mUX",
        "outputId": "9e5f77c2-c455-4685-94d1-d5dcc46dc1e8"
      },
      "outputs": [
        {
          "name": "stdout",
          "output_type": "stream",
          "text": [
            "the given string is palindrome: pop\n"
          ]
        }
      ],
      "source": [
        "#palindrome number\n",
        "x=\"pop\"\n",
        "if x==x[::-1]:\n",
        "  print(\"the given string is palindrome:\",x)\n",
        "else:\n",
        "  print(\"the given string is not palindrome:\",x)"
      ]
    },
    {
      "cell_type": "code",
      "execution_count": null,
      "metadata": {
        "colab": {
          "base_uri": "https://localhost:8080/"
        },
        "id": "6v2RJsliDlgd",
        "outputId": "2f5e5045-3b97-4b27-d252-7bb79f549c41"
      },
      "outputs": [
        {
          "name": "stdout",
          "output_type": "stream",
          "text": [
            "enter a string : pot\n",
            "not palindrome pot\n"
          ]
        }
      ],
      "source": [
        "num=str(input(\"enter a string : \"))\n",
        "if num==num[::-1]:\n",
        "  print(\"palindrome:\",num)\n",
        "else:\n",
        "  print(\"not palindrome\",num)"
      ]
    },
    {
      "cell_type": "code",
      "execution_count": null,
      "metadata": {
        "colab": {
          "base_uri": "https://localhost:8080/"
        },
        "id": "-SwiZjE1D8qQ",
        "outputId": "d7d399e4-6deb-4bec-de8e-2cd6ad332a55"
      },
      "outputs": [
        {
          "name": "stdout",
          "output_type": "stream",
          "text": [
            "[1, 2, 3, 4, 5, 6, 7, 8, 10, 9]\n",
            "[5, 4, 3, 6]\n"
          ]
        }
      ],
      "source": [
        "x=[1,2,3,4,5,6,5,4,3,6,7,8,10,9]\n",
        "seen=[]\n",
        "dublicates=[]\n",
        "for i in x:\n",
        "  if i not in seen:\n",
        "    seen.append(i)\n",
        "  else:\n",
        "    dublicates.append(i)\n",
        "print(seen)\n",
        "print(dublicates)\n"
      ]
    },
    {
      "cell_type": "code",
      "execution_count": null,
      "metadata": {
        "colab": {
          "base_uri": "https://localhost:8080/",
          "height": 211
        },
        "id": "WEhtrYU-G2z_",
        "outputId": "0cd74098-bfaa-4ebb-9bb2-9f55ed546ddf"
      },
      "outputs": [
        {
          "ename": "NameError",
          "evalue": "name 'add' is not defined",
          "output_type": "error",
          "traceback": [
            "\u001b[0;31m---------------------------------------------------------------------------\u001b[0m",
            "\u001b[0;31mNameError\u001b[0m                                 Traceback (most recent call last)",
            "\u001b[0;32m<ipython-input-27-54fb4440cc93>\u001b[0m in \u001b[0;36m<cell line: 4>\u001b[0;34m()\u001b[0m\n\u001b[1;32m      4\u001b[0m \u001b[0;32mfor\u001b[0m \u001b[0mi\u001b[0m \u001b[0;32min\u001b[0m \u001b[0mx\u001b[0m\u001b[0;34m:\u001b[0m\u001b[0;34m\u001b[0m\u001b[0;34m\u001b[0m\u001b[0m\n\u001b[1;32m      5\u001b[0m   \u001b[0;32mif\u001b[0m \u001b[0mi\u001b[0m \u001b[0;32mnot\u001b[0m \u001b[0;32min\u001b[0m \u001b[0mseen\u001b[0m\u001b[0;34m:\u001b[0m\u001b[0;34m\u001b[0m\u001b[0;34m\u001b[0m\u001b[0m\n\u001b[0;32m----> 6\u001b[0;31m     \u001b[0madd\u001b[0m\u001b[0;34m.\u001b[0m\u001b[0mseen\u001b[0m\u001b[0;34m(\u001b[0m\u001b[0mi\u001b[0m\u001b[0;34m)\u001b[0m\u001b[0;34m\u001b[0m\u001b[0;34m\u001b[0m\u001b[0m\n\u001b[0m\u001b[1;32m      7\u001b[0m   \u001b[0;32melse\u001b[0m\u001b[0;34m:\u001b[0m\u001b[0;34m\u001b[0m\u001b[0;34m\u001b[0m\u001b[0m\n\u001b[1;32m      8\u001b[0m     \u001b[0madd\u001b[0m\u001b[0;34m.\u001b[0m\u001b[0mdublicates\u001b[0m\u001b[0;34m(\u001b[0m\u001b[0mi\u001b[0m\u001b[0;34m)\u001b[0m\u001b[0;34m\u001b[0m\u001b[0;34m\u001b[0m\u001b[0m\n",
            "\u001b[0;31mNameError\u001b[0m: name 'add' is not defined"
          ]
        }
      ],
      "source": [
        "x=[1,2,3,4,5,6,5,4,3,6,7,8,10,9]\n",
        "seen=[]\n",
        "dublicates=[]\n",
        "for i in x:\n",
        "  if i not in seen:\n",
        "    add.seen(i)\n",
        "  else:\n",
        "    add.dublicates(i)\n",
        "print(seen)\n",
        "print(dublicates)"
      ]
    },
    {
      "cell_type": "code",
      "execution_count": null,
      "metadata": {
        "colab": {
          "base_uri": "https://localhost:8080/"
        },
        "id": "aEeGkiZcHk3e",
        "outputId": "c85f8cff-efb5-43a7-ee8c-ca449bb8c458"
      },
      "outputs": [
        {
          "name": "stdout",
          "output_type": "stream",
          "text": [
            "{2, 4, 6}\n"
          ]
        }
      ],
      "source": [
        "x=[1,2,3,4,5,6,7,8,9,10,2,4,6]\n",
        "duplicates=[]\n",
        "for i in x:\n",
        "   if x.count(i)==2:\n",
        "      duplicates.append(i)\n",
        "print(set(duplicates))"
      ]
    },
    {
      "cell_type": "code",
      "execution_count": null,
      "metadata": {
        "colab": {
          "base_uri": "https://localhost:8080/"
        },
        "id": "QR_SITDbInRe",
        "outputId": "a5fd2386-4358-4230-c012-51ae5de51563"
      },
      "outputs": [
        {
          "name": "stdout",
          "output_type": "stream",
          "text": [
            "{4}\n"
          ]
        }
      ],
      "source": [
        "x=[1,2,3,4]\n",
        "y=[4,5,6,7]\n",
        "z=set(x).intersection(y)\n",
        "print(z)"
      ]
    },
    {
      "cell_type": "code",
      "execution_count": null,
      "metadata": {
        "id": "lgAkp_3BI0L2"
      },
      "outputs": [],
      "source": []
    }
  ],
  "metadata": {
    "colab": {
      "provenance": []
    },
    "kernelspec": {
      "display_name": "Python 3",
      "name": "python3"
    },
    "language_info": {
      "name": "python"
    }
  },
  "nbformat": 4,
  "nbformat_minor": 0
}