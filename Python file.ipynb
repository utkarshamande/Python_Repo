{
  "nbformat": 4,
  "nbformat_minor": 0,
  "metadata": {
    "colab": {
      "provenance": []
    },
    "kernelspec": {
      "name": "python3",
      "display_name": "Python 3"
    },
    "language_info": {
      "name": "python"
    }
  },
  "cells": [
    {
      "cell_type": "code",
      "execution_count": null,
      "metadata": {
        "id": "99bED41OkLyw",
        "colab": {
          "base_uri": "https://localhost:8080/"
        },
        "outputId": "68d0a29d-a98f-457e-c48d-ec5d933bd439"
      },
      "outputs": [
        {
          "output_type": "stream",
          "name": "stdout",
          "text": [
            "second largest number: 4\n"
          ]
        }
      ],
      "source": [
        "#print second largest number form list by using function\n",
        "def second_largest(num):\n",
        "    lst = list(set(num))\n",
        "    lst.sort()\n",
        "    print(\"second largest number:\", lst[-2])\n",
        "\n",
        "\n",
        "second_largest([3, 1, 4, 4, 5])\n",
        "\n",
        "\n"
      ]
    },
    {
      "cell_type": "code",
      "source": [
        "#square of even number\n",
        "\n",
        "def square(num):\n",
        "    sqr = []\n",
        "    for i in num:\n",
        "        if i % 2 == 0:\n",
        "            sqr.append(i ** 2)\n",
        "    print(sqr)\n",
        "\n",
        "square([1, 2, 3, 4, 5, 6, 7, 8, 9, 10])\n"
      ],
      "metadata": {
        "colab": {
          "base_uri": "https://localhost:8080/"
        },
        "id": "l7lxInrPq_q8",
        "outputId": "5fe7a54b-0d4b-43f6-9dfd-95f22afc0d9d"
      },
      "execution_count": null,
      "outputs": [
        {
          "output_type": "stream",
          "name": "stdout",
          "text": [
            "[4, 16, 36, 64, 100]\n"
          ]
        }
      ]
    },
    {
      "cell_type": "code",
      "source": [
        "#commulative sum\n",
        "def commulative_sum(num):\n",
        "    sum = 0\n",
        "    commulative = []\n",
        "    for i in num:\n",
        "        sum += i\n",
        "        commulative.append(sum)\n",
        "    return commulative\n",
        "print(commulative_sum([1, 2, 3, 4, 5]))"
      ],
      "metadata": {
        "colab": {
          "base_uri": "https://localhost:8080/"
        },
        "id": "gWjChJHAvAon",
        "outputId": "7726ccb4-d3ea-4956-9f73-86154bc1875e"
      },
      "execution_count": null,
      "outputs": [
        {
          "output_type": "stream",
          "name": "stdout",
          "text": [
            "[1, 3, 6, 10, 15]\n"
          ]
        }
      ]
    },
    {
      "cell_type": "code",
      "source": [
        "#freq of element using dictinary\n",
        "x=[1,1,2,3,3,4,1,2]\n",
        "freq={}\n",
        "for i in x:\n",
        "    if i in freq:\n",
        "        freq[i]+=1\n",
        "    else:\n",
        "        freq[i]=1\n",
        "print(freq)"
      ],
      "metadata": {
        "colab": {
          "base_uri": "https://localhost:8080/"
        },
        "id": "R5SI30yByyDK",
        "outputId": "bae05067-fd4f-4f18-8599-d9570f339e70"
      },
      "execution_count": null,
      "outputs": [
        {
          "output_type": "stream",
          "name": "stdout",
          "text": [
            "{1: 3, 2: 2, 3: 2, 4: 1}\n"
          ]
        }
      ]
    },
    {
      "cell_type": "code",
      "source": [
        "def freq(x):\n",
        "  freq={}\n",
        "  for i in x:\n",
        "    if i in freq:\n",
        "      freq[i]+=1\n",
        "    else:\n",
        "      freq[i]=1\n",
        "  print(freq)\n",
        "\n",
        "freq([1,1,2,3,3,4,1,2])"
      ],
      "metadata": {
        "colab": {
          "base_uri": "https://localhost:8080/"
        },
        "id": "Q-cXuVSt20Rs",
        "outputId": "901a01b3-13fe-43c7-eb12-c0922ff83a3e"
      },
      "execution_count": null,
      "outputs": [
        {
          "output_type": "stream",
          "name": "stdout",
          "text": [
            "{1: 3, 2: 2, 3: 2, 4: 1}\n"
          ]
        }
      ]
    },
    {
      "cell_type": "code",
      "source": [
        "#squareof even number using list\n",
        "x=[1,2,3,4,5]\n",
        "lst=[i**2 for i in x if i%2==0]\n",
        "print(lst)"
      ],
      "metadata": {
        "colab": {
          "base_uri": "https://localhost:8080/"
        },
        "id": "m16N-eq35OCe",
        "outputId": "3bd8bb81-178d-4654-e411-4f3a3fc695d4"
      },
      "execution_count": null,
      "outputs": [
        {
          "output_type": "stream",
          "name": "stdout",
          "text": [
            "[4, 16]\n"
          ]
        }
      ]
    },
    {
      "cell_type": "code",
      "source": [
        "#1st 25 natural number by using list comphression\n",
        "\n",
        "x=[x for x in range(1,26)if x%5==0]\n",
        "print(x)"
      ],
      "metadata": {
        "colab": {
          "base_uri": "https://localhost:8080/"
        },
        "id": "qUQwyzY15pmT",
        "outputId": "a3efde06-43c9-4d11-8bbd-66f7190f591f"
      },
      "execution_count": null,
      "outputs": [
        {
          "output_type": "stream",
          "name": "stdout",
          "text": [
            "[5, 10, 15, 20, 25]\n"
          ]
        }
      ]
    },
    {
      "cell_type": "code",
      "source": [
        "#7 table\n",
        "x=[]\n",
        "for i in range(1,11):\n",
        "  num = i*7\n",
        "  x.append(num)\n",
        "print(x)"
      ],
      "metadata": {
        "colab": {
          "base_uri": "https://localhost:8080/"
        },
        "id": "reHph3C07LdX",
        "outputId": "a94afd75-a014-4f09-e340-2691e9c42797"
      },
      "execution_count": null,
      "outputs": [
        {
          "output_type": "stream",
          "name": "stdout",
          "text": [
            "[7, 14, 21, 28, 35, 42, 49, 56, 63, 70]\n"
          ]
        }
      ]
    },
    {
      "cell_type": "code",
      "source": [
        "fruits=['a','b','c','d','e']\n",
        "if 'c' in fruits:\n",
        "  print(\"c is available\")\n",
        "else:\n",
        "  print(\"c is not avilable\")"
      ],
      "metadata": {
        "colab": {
          "base_uri": "https://localhost:8080/"
        },
        "id": "WOV3gheE8NQx",
        "outputId": "373f49ed-6f8b-4a62-d812-275682bb4958"
      },
      "execution_count": null,
      "outputs": [
        {
          "output_type": "stream",
          "name": "stdout",
          "text": [
            "c is available\n"
          ]
        }
      ]
    },
    {
      "cell_type": "code",
      "source": [
        "#even and odd using list comphression\n",
        "x=[x for x in range(1,21)if x%2==0 ]\n",
        "y=[y for y in range(1,21)if y%2!=0]\n",
        "print(x)\n",
        "print(y)\n"
      ],
      "metadata": {
        "colab": {
          "base_uri": "https://localhost:8080/"
        },
        "id": "M8gl_B-o-L6y",
        "outputId": "b58d8177-081c-48eb-e7fb-aebc52759280"
      },
      "execution_count": null,
      "outputs": [
        {
          "output_type": "stream",
          "name": "stdout",
          "text": [
            "[2, 4, 6, 8, 10, 12, 14, 16, 18, 20]\n",
            "[1, 3, 5, 7, 9, 11, 13, 15, 17, 19]\n"
          ]
        }
      ]
    },
    {
      "cell_type": "code",
      "source": [
        "#index position of number\n",
        "a=(1,2,3,4,5,6)\n",
        "print(a.index(5))"
      ],
      "metadata": {
        "colab": {
          "base_uri": "https://localhost:8080/"
        },
        "id": "iVECKZUW_cBH",
        "outputId": "41cf95bf-94f3-49f2-ff00-0945be3d30a8"
      },
      "execution_count": null,
      "outputs": [
        {
          "output_type": "stream",
          "name": "stdout",
          "text": [
            "4\n"
          ]
        }
      ]
    },
    {
      "cell_type": "code",
      "source": [
        "#index position of number using function\n",
        "def index(a):\n",
        "  print(a.index(5))\n",
        "index((1,2,3,4,5,6))\n"
      ],
      "metadata": {
        "colab": {
          "base_uri": "https://localhost:8080/"
        },
        "id": "HzkO3B-zBsvj",
        "outputId": "f9ff1bfe-c10f-4448-a156-e57edaf4d776"
      },
      "execution_count": null,
      "outputs": [
        {
          "output_type": "stream",
          "name": "stdout",
          "text": [
            "4\n"
          ]
        }
      ]
    },
    {
      "cell_type": "code",
      "source": [
        "\n",
        "print(a.index(3))"
      ],
      "metadata": {
        "colab": {
          "base_uri": "https://localhost:8080/"
        },
        "id": "h7KQpiorCeq2",
        "outputId": "e43506cc-b97d-4f53-8bf6-e267cf61ef34"
      },
      "execution_count": null,
      "outputs": [
        {
          "output_type": "stream",
          "name": "stdout",
          "text": [
            "2\n"
          ]
        }
      ]
    },
    {
      "cell_type": "code",
      "source": [
        "\n",
        "print(a.index(2))"
      ],
      "metadata": {
        "colab": {
          "base_uri": "https://localhost:8080/"
        },
        "id": "IE_sA5RLDWjI",
        "outputId": "c5133bad-ab97-4c66-a29f-5c2195adb536"
      },
      "execution_count": null,
      "outputs": [
        {
          "output_type": "stream",
          "name": "stdout",
          "text": [
            "1\n"
          ]
        }
      ]
    },
    {
      "cell_type": "code",
      "source": [
        "\n",
        "print(a.index(5))"
      ],
      "metadata": {
        "colab": {
          "base_uri": "https://localhost:8080/"
        },
        "id": "C09ZEz3TDvaM",
        "outputId": "dd597829-fe24-4768-9786-a358066f7020"
      },
      "execution_count": null,
      "outputs": [
        {
          "output_type": "stream",
          "name": "stdout",
          "text": [
            "4\n"
          ]
        }
      ]
    },
    {
      "cell_type": "code",
      "source": [
        "s=(1,2,3,4,5,6,7,8,9)\n",
        "print(s.index(7))"
      ],
      "metadata": {
        "colab": {
          "base_uri": "https://localhost:8080/"
        },
        "id": "s7E4gNP5EUxz",
        "outputId": "2d727bb4-8780-4945-c5f8-13934420f82e"
      },
      "execution_count": null,
      "outputs": [
        {
          "output_type": "stream",
          "name": "stdout",
          "text": [
            "6\n"
          ]
        }
      ]
    },
    {
      "cell_type": "code",
      "source": [
        "#creat function to find largest among 3 number\n",
        "def Largest(a,b,c):\n",
        "  if a>b and a>c:\n",
        "    print(\"largest amount is a \",a)\n",
        "  elif b>a and b>c:\n",
        "    print(\"largest amount is b \",b)\n",
        "  else:\n",
        "    print(\"largest amount is c \",c)\n",
        "Largest(2,3,1)"
      ],
      "metadata": {
        "colab": {
          "base_uri": "https://localhost:8080/"
        },
        "id": "dzzpBCzQHdBF",
        "outputId": "bc4f5088-89cd-4df7-d4a9-2e97d7695592"
      },
      "execution_count": null,
      "outputs": [
        {
          "output_type": "stream",
          "name": "stdout",
          "text": [
            "largest amount is b  3\n"
          ]
        }
      ]
    },
    {
      "cell_type": "code",
      "source": [
        "Largest(234,465,3245)"
      ],
      "metadata": {
        "colab": {
          "base_uri": "https://localhost:8080/"
        },
        "id": "oiGFxm2MJ_xk",
        "outputId": "9b820ecc-f4ee-4608-d7d7-8d9c1a6755ff"
      },
      "execution_count": null,
      "outputs": [
        {
          "output_type": "stream",
          "name": "stdout",
          "text": [
            "largest amount is c  3245\n"
          ]
        }
      ]
    },
    {
      "cell_type": "code",
      "source": [
        "x=int(input(\"enter the number\"))\n",
        "def square_root(x):\n",
        "  print(x**0.5)\n",
        "square_root(x)\n",
        "\n",
        "\n"
      ],
      "metadata": {
        "colab": {
          "base_uri": "https://localhost:8080/"
        },
        "id": "Uq0_9auZLGCl",
        "outputId": "11806259-3bf5-4ae7-b6f6-afe25a609a5b"
      },
      "execution_count": null,
      "outputs": [
        {
          "output_type": "stream",
          "name": "stdout",
          "text": [
            "enter the number4\n",
            "2.0\n"
          ]
        }
      ]
    },
    {
      "cell_type": "code",
      "source": [
        "#wirite pyhton program to print even or odd number\n",
        "x=int(input(\"enter the number\"))\n",
        "def even_odd(x):\n",
        "if x%2==0:\n",
        "  print(\"even number\")\n",
        "else:\n",
        "  print(\"odd number\")\n",
        "even_odd(x)"
      ],
      "metadata": {
        "colab": {
          "base_uri": "https://localhost:8080/"
        },
        "id": "86Vb4M6FNDT3",
        "outputId": "8344c35d-8532-4abd-aeb7-6c9bc98691b5"
      },
      "execution_count": null,
      "outputs": [
        {
          "output_type": "stream",
          "name": "stdout",
          "text": [
            "enter the number3\n",
            "odd number\n"
          ]
        }
      ]
    },
    {
      "cell_type": "code",
      "source": [
        "def palindrome(x):\n",
        "  if x==x[::-1]:\n",
        "    print(\"palindrome\")\n",
        "  else:\n",
        "    print(\"not palindrome\")\n",
        "palindrome(\"madam\")"
      ],
      "metadata": {
        "colab": {
          "base_uri": "https://localhost:8080/"
        },
        "id": "DeucsODNOIcr",
        "outputId": "320a2a2d-60dd-40bc-a863-9c0602373c70"
      },
      "execution_count": null,
      "outputs": [
        {
          "output_type": "stream",
          "name": "stdout",
          "text": [
            "palindrome\n"
          ]
        }
      ]
    },
    {
      "cell_type": "code",
      "source": [
        "radius=int(input(\"entter the number\"))\n",
        "def area_of_circle(radius):\n",
        "  area=3.14*radius**2\n",
        "  print(area)\n",
        "area_of_circle(radius)"
      ],
      "metadata": {
        "colab": {
          "base_uri": "https://localhost:8080/"
        },
        "id": "LivV27MhOYOp",
        "outputId": "41ad0cb9-224e-4737-d509-6cdce087a65e"
      },
      "execution_count": null,
      "outputs": [
        {
          "output_type": "stream",
          "name": "stdout",
          "text": [
            "entter the number10\n",
            "314.0\n"
          ]
        }
      ]
    },
    {
      "cell_type": "code",
      "source": [],
      "metadata": {
        "id": "m1yJSLoUQcOe"
      },
      "execution_count": null,
      "outputs": []
    }
  ]
}